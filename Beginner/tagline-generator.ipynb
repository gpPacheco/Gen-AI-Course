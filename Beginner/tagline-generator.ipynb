{
 "cells": [
  {
   "cell_type": "code",
   "execution_count": 6,
   "id": "edfa5ee8-fe34-445d-ab0f-c03c1e29ec04",
   "metadata": {
    "tags": []
   },
   "outputs": [
    {
     "name": "stdout",
     "output_type": "stream",
     "text": [
      "##\n",
      " Catchy Taglines for Outdoor Gear (Focusing on Durability & Youth Exploration)\n",
      "\n",
      "\n",
      "**Input: <finding a durable backpack #1>**\n",
      "\n",
      "**Output:**\n",
      "\n",
      "\n",
      "* **Built to last, made to explore.**\n",
      "* **Adventures start here. Durability guaranteed.**\n",
      "* **Tough on trails, easy on shoulders.**\n",
      "\n",
      "* **Pack it all. This backpack's got your back.**\n",
      "* **Go further. Carry more. Explore longer.**\n",
      "\n",
      "**Input: <\n",
      "your example input #2>** \n",
      "\n",
      "**Output:** (Please provide your input so I can generate a relevant tagline!) \n",
      "\n",
      "**Input: <tell about the nature and vantages>**\n",
      "\n",
      "**Output:** \n",
      "\n",
      "* **\n",
      "Nature awaits. Take the vantage point.** \n",
      "* **Embrace the wild. Discover your vantage.** \n",
      "* **Find your adventure. Nature is calling.** \n",
      "\n"
     ]
    }
   ],
   "source": [
    "from vertexai.preview.generative_models import GenerativeModel\n",
    "\n",
    "model = GenerativeModel(\"gemini-1.5-pro\")\n",
    "\n",
    "prompt = \"\"\"\n",
    "Cymbal Direct is partnering with an outdoor gear retailer. They\\'re launching a new line of products designed to encourage young people to explore the outdoors. Help them create catchy taglines for this product line.\n",
    "\n",
    "input: <finding a durable backpack #1>\n",
    "output: <proprieties about a durable backpack #1>\n",
    "\n",
    "input: <your example input #2>\n",
    "output: <your example output #2>\n",
    "\n",
    "input: <tell about the nature and vantages>\n",
    "output:<write the word nature>\n",
    "\"\"\"\n",
    "\n",
    "responses = model.generate_content(\n",
    "    prompt,\n",
    "    generation_config={\n",
    "        \"temperature\": 1,\n",
    "        \"max_output_tokens\": 2048,\n",
    "        \"top_p\": 1.0,\n",
    "        \"top_k\": 40,\n",
    "    },\n",
    "    stream=True\n",
    "    )\n",
    "\n",
    "for response in responses:\n",
    "    print(response.text)"
   ]
  },
  {
   "cell_type": "code",
   "execution_count": null,
   "id": "489449c7-7075-4b76-a1b6-b04a2bf9cd54",
   "metadata": {},
   "outputs": [],
   "source": []
  }
 ],
 "metadata": {
  "environment": {
   "kernel": "python3",
   "name": "tf2-cpu.2-17.m125",
   "type": "gcloud",
   "uri": "us-docker.pkg.dev/deeplearning-platform-release/gcr.io/tf2-cpu.2-17:m125"
  },
  "kernelspec": {
   "display_name": "Python 3 (Local)",
   "language": "python",
   "name": "python3"
  },
  "language_info": {
   "codemirror_mode": {
    "name": "ipython",
    "version": 3
   },
   "file_extension": ".py",
   "mimetype": "text/x-python",
   "name": "python",
   "nbconvert_exporter": "python",
   "pygments_lexer": "ipython3",
   "version": "3.10.15"
  }
 },
 "nbformat": 4,
 "nbformat_minor": 5
}
