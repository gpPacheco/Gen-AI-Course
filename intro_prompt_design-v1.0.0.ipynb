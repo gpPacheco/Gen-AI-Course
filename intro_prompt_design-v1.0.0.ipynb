{
 "cells": [
  {
   "cell_type": "code",
   "execution_count": null,
   "metadata": {
    "id": "ur8xi4C7S06n"
   },
   "outputs": [],
   "source": [
    "# Copyright 2024 Google LLC\n",
    "#\n",
    "# Licensed under the Apache License, Version 2.0 (the \"License\");\n",
    "# you may not use this file except in compliance with the License.\n",
    "# You may obtain a copy of the License at\n",
    "#\n",
    "#     https://www.apache.org/licenses/LICENSE-2.0\n",
    "#\n",
    "# Unless required by applicable law or agreed to in writing, software\n",
    "# distributed under the License is distributed on an \"AS IS\" BASIS,\n",
    "# WITHOUT WARRANTIES OR CONDITIONS OF ANY KIND, either express or implied.\n",
    "# See the License for the specific language governing permissions and\n",
    "# limitations under the License."
   ]
  },
  {
   "cell_type": "markdown",
   "metadata": {
    "id": "JAPoU8Sm5E6e"
   },
   "source": [
    "# Prompt Design - Best Practices\n",
    "\n",
    "<table align=\"left\">\n",
    "  <td style=\"text-align: center\">\n",
    "    <a href=\"https://colab.research.google.com/github/GoogleCloudPlatform/generative-ai/blob/main/gemini/prompts/intro_prompt_design.ipynb\">\n",
    "      <img src=\"https://cloud.google.com/ml-engine/images/colab-logo-32px.png\" alt=\"Google Colaboratory logo\"><br> Open in Colab\n",
    "    </a>\n",
    "  </td>\n",
    "  <td style=\"text-align: center\">\n",
    "    <a href=\"https://console.cloud.google.com/vertex-ai/colab/import/https:%2F%2Fraw.githubusercontent.com%2FGoogleCloudPlatform%2Fgenerative-ai%2Fmain%2Fgemini%2Fprompts%2Fintro_prompt_design.ipynb\">\n",
    "      <img width=\"32px\" src=\"https://lh3.googleusercontent.com/JmcxdQi-qOpctIvWKgPtrzZdJJK-J3sWE1RsfjZNwshCFgE_9fULcNpuXYTilIR2hjwN\" alt=\"Google Cloud Colab Enterprise logo\"><br> Open in Colab Enterprise\n",
    "    </a>\n",
    "  </td>    \n",
    "  <td style=\"text-align: center\">\n",
    "    <a href=\"https://console.cloud.google.com/vertex-ai/workbench/deploy-notebook?download_url=https://raw.githubusercontent.com/GoogleCloudPlatform/generative-ai/main/gemini/prompts/intro_prompt_design.ipynb\">\n",
    "      <img src=\"https://lh3.googleusercontent.com/UiNooY4LUgW_oTvpsNhPpQzsstV5W8F7rYgxgGBD85cWJoLmrOzhVs_ksK_vgx40SHs7jCqkTkCk=e14-rj-sc0xffffff-h130-w32\" alt=\"Vertex AI logo\"><br> Open in Workbench\n",
    "    </a>\n",
    "  </td>\n",
    "  <td style=\"text-align: center\">\n",
    "    <a href=\"https://github.com/GoogleCloudPlatform/generative-ai/blob/main/gemini/prompts/intro_prompt_design.ipynb\">\n",
    "      <img src=\"https://cloud.google.com/ml-engine/images/github-logo-32px.png\" alt=\"GitHub logo\"><br> View on GitHub\n",
    "    </a>\n",
    "  </td>\n",
    "</table>"
   ]
  },
  {
   "cell_type": "markdown",
   "metadata": {
    "id": "84f0f73a0f76"
   },
   "source": [
    "| | | |\n",
    "|-|-|-|\n",
    "|Author(s) | [Polong Lin](https://github.com/polong-lin) | [Karl Weinmeister](https://github.com/kweinmeister)|"
   ]
  },
  {
   "cell_type": "markdown",
   "metadata": {
    "id": "tvgnzT1CKxrO"
   },
   "source": [
    "## Overview\n",
    "\n",
    "This notebook covers the essentials of prompt engineering, including some best practices.\n",
    "\n",
    "Learn more about prompt design in the [official documentation](https://cloud.google.com/vertex-ai/docs/generative-ai/text/text-overview).\n",
    "\n",
    "In this notebook, you learn best practices around prompt engineering -- how to design prompts to improve the quality of your responses.\n",
    "\n",
    "This notebook covers the following best practices for prompt engineering:\n",
    "\n",
    "- Be concise\n",
    "- Be specific and well-defined\n",
    "- Ask one task at a time\n",
    "- Turn generative tasks into classification tasks\n",
    "- Improve response quality by including examples"
   ]
  },
  {
   "cell_type": "markdown",
   "metadata": {
    "id": "61RBz8LLbxCR"
   },
   "source": [
    "## Getting Started"
   ]
  },
  {
   "cell_type": "markdown",
   "metadata": {
    "id": "No17Cw5hgx12"
   },
   "source": [
    "### Install Vertex AI SDK and other required packages\n"
   ]
  },
  {
   "cell_type": "code",
   "execution_count": 1,
   "metadata": {
    "id": "tFy3H3aPgx12",
    "tags": []
   },
   "outputs": [
    {
     "name": "stdout",
     "output_type": "stream",
     "text": [
      "Note: you may need to restart the kernel to use updated packages.\n"
     ]
    }
   ],
   "source": [
    "%pip install --upgrade --user --quiet google-cloud-aiplatform"
   ]
  },
  {
   "cell_type": "markdown",
   "metadata": {
    "id": "R5Xep4W9lq-Z"
   },
   "source": [
    "### Restart runtime\n",
    "\n",
    "To use the newly installed packages in this Jupyter runtime, you must restart the runtime. You can do this by running the cell below, which will restart the current kernel."
   ]
  },
  {
   "cell_type": "code",
   "execution_count": 5,
   "metadata": {
    "id": "XRvKdaPDTznN",
    "tags": []
   },
   "outputs": [
    {
     "data": {
      "text/plain": [
       "{'status': 'ok', 'restart': True}"
      ]
     },
     "execution_count": 5,
     "metadata": {},
     "output_type": "execute_result"
    }
   ],
   "source": [
    "import IPython\n",
    "\n",
    "app = IPython.Application.instance()\n",
    "app.kernel.do_shutdown(True)"
   ]
  },
  {
   "cell_type": "markdown",
   "metadata": {
    "id": "SbmM4z7FOBpM"
   },
   "source": [
    "<div class=\"alert alert-block alert-warning\">\n",
    "<b>⚠️ The kernel is going to restart. Please wait until it is finished before continuing to the next step. ⚠️</b>\n",
    "</div>\n"
   ]
  },
  {
   "cell_type": "markdown",
   "metadata": {
    "id": "dmWOrTJ3gx13"
   },
   "source": [
    "### Authenticate your notebook environment (Colab only)\n",
    "\n",
    "Authenticate your environment on Google Colab.\n"
   ]
  },
  {
   "cell_type": "code",
   "execution_count": 1,
   "metadata": {
    "id": "NyKGtVQjgx13",
    "tags": []
   },
   "outputs": [],
   "source": [
    "import sys\n",
    "\n",
    "if \"google.colab\" in sys.modules:\n",
    "    from google.colab import auth\n",
    "\n",
    "    auth.authenticate_user()"
   ]
  },
  {
   "cell_type": "markdown",
   "metadata": {
    "id": "DF4l8DTdWgPY"
   },
   "source": [
    "### Set Google Cloud project information and initialize Vertex AI SDK\n",
    "\n",
    "To get started using Vertex AI, you must have an existing Google Cloud project and [enable the Vertex AI API](https://console.cloud.google.com/flows/enableapi?apiid=aiplatform.googleapis.com).\n",
    "\n",
    "Learn more about [setting up a project and a development environment](https://cloud.google.com/vertex-ai/docs/start/cloud-environment)."
   ]
  },
  {
   "cell_type": "code",
   "execution_count": 4,
   "metadata": {
    "id": "Nqwi-5ufWp_B",
    "tags": []
   },
   "outputs": [],
   "source": [
    "PROJECT_ID = \"qwiklabs-gcp-04-1c981773b2bb\"  # @param {type:\"string\"}\n",
    "LOCATION = \"us-west1\"  # @param {type:\"string\"}\n",
    "\n",
    "import vertexai\n",
    "\n",
    "vertexai.init(project=PROJECT_ID, location=LOCATION)"
   ]
  },
  {
   "cell_type": "code",
   "execution_count": 2,
   "metadata": {
    "id": "QqRWdPGmW3NJ",
    "tags": []
   },
   "outputs": [],
   "source": [
    "from vertexai.generative_models import GenerationConfig, GenerativeModel\n",
    "import time"
   ]
  },
  {
   "cell_type": "markdown",
   "metadata": {
    "id": "OnFPpCRtXRl4"
   },
   "source": [
    "### Load model"
   ]
  },
  {
   "cell_type": "code",
   "execution_count": 3,
   "metadata": {
    "id": "IQYu_9SvXQah",
    "tags": []
   },
   "outputs": [],
   "source": [
    "model = GenerativeModel(\"gemini-1.5-flash\")"
   ]
  },
  {
   "cell_type": "code",
   "execution_count": 4,
   "metadata": {
    "tags": []
   },
   "outputs": [],
   "source": [
    "import time\n",
    "\n",
    "def call_gemini(prompt, generation_config=GenerationConfig(temperature=1.0)):\n",
    "    wait_time = 1\n",
    "    while True:\n",
    "        try:\n",
    "            response = model.generate_content(prompt, generation_config=generation_config).text\n",
    "            return response\n",
    "            break  # Exit the loop if successful\n",
    "        except Exception as e:  # Replace with the actual exception type\n",
    "            time.sleep(wait_time)\n",
    "            wait_time *= 2  # Double the wait time\n",
    "\n",
    "def send_message_gemini(model, prompt):    \n",
    "    wait_time = 1\n",
    "    while True:\n",
    "        try:\n",
    "            response = model.send_message(prompt).text\n",
    "            return response\n",
    "            break  # Exit the loop if successful\n",
    "        except Exception as e:  # Replace with the actual exception type\n",
    "            time.sleep(wait_time)\n",
    "            wait_time *= 2  # Double the wait time"
   ]
  },
  {
   "cell_type": "markdown",
   "metadata": {
    "id": "cVOtUNJ5X0PY"
   },
   "source": [
    "## Prompt engineering best practices"
   ]
  },
  {
   "cell_type": "markdown",
   "metadata": {
    "id": "uv_e0fEPX60q"
   },
   "source": [
    "Prompt engineering is all about how to design your prompts so that the response is what you were indeed hoping to see.\n",
    "\n",
    "The idea of using \"unfancy\" prompts is to minimize the noise in your prompt to reduce the possibility of the LLM misinterpreting the intent of the prompt. Below are a few guidelines on how to engineer \"unfancy\" prompts.\n",
    "\n",
    "In this section, you'll cover the following best practices when engineering prompts:\n",
    "\n",
    "* Be concise\n",
    "* Be specific, and well-defined\n",
    "* Ask one task at a time\n",
    "* Improve response quality by including examples\n",
    "* Turn generative tasks to classification tasks to improve safety"
   ]
  },
  {
   "cell_type": "markdown",
   "metadata": {
    "id": "0pY4XX0OX9_Y"
   },
   "source": [
    "### Be concise"
   ]
  },
  {
   "cell_type": "markdown",
   "metadata": {
    "id": "xlRpxyxGYA1K"
   },
   "source": [
    "🛑 Not recommended. The prompt below is unnecessarily verbose."
   ]
  },
  {
   "cell_type": "code",
   "execution_count": 5,
   "metadata": {
    "id": "YKV4G-CfXdbi",
    "tags": []
   },
   "outputs": [
    {
     "name": "stdout",
     "output_type": "stream",
     "text": [
      "Here are some names for a dried flower shop, playing on different themes:\n",
      "\n",
      "**Nostalgic & Romantic:**\n",
      "\n",
      "* **The Dried Petal**\n",
      "* **Whispers of Wildflowers**\n",
      "* **Forever Blooms**\n",
      "* **The Vintage Bouquet**\n",
      "* **Timeless Florals**\n",
      "\n",
      "**Modern & Minimalist:**\n",
      "\n",
      "* **Bloom & Wither**\n",
      "* **Paper Petal**\n",
      "* **The Dried Garden**\n",
      "* **Botanical Muse**\n",
      "* **Bloom & Preserve**\n",
      "\n",
      "**Whimsical & Unique:**\n",
      "\n",
      "* **The Flower Alchemist**\n",
      "* **Dusty Blooms**\n",
      "* **Sun-Kissed Blooms**\n",
      "* **The Dried Flower Co.**\n",
      "* **The Botanical Curio**\n",
      "\n",
      "**Location Specific:**\n",
      "\n",
      "* **[Your Town] Dried Flowers**\n",
      "* **[Your Neighborhood] Bloomery**\n",
      "* **[Your Street Name] Flower House**\n",
      "\n",
      "**Tips for Choosing a Name:**\n",
      "\n",
      "* **Keep it short and memorable.**\n",
      "* **Consider your target audience.**\n",
      "* **Make sure the name is available as a website domain and social media handle.**\n",
      "* **Check if the name is already being used by another business.**\n",
      "* **Say the name out loud to make sure it rolls off the tongue easily.**\n",
      "\n",
      "Ultimately, the best name for your flower shop is one that reflects your unique brand and style. \n",
      "\n"
     ]
    }
   ],
   "source": [
    "prompt = \"What do you think could be a good name for a flower shop that specializes in selling bouquets of dried flowers more than fresh flowers?\"\n",
    "\n",
    "print(call_gemini(prompt))"
   ]
  },
  {
   "cell_type": "markdown",
   "metadata": {
    "id": "YrJexRHJYnmC"
   },
   "source": [
    "✅ Recommended. The prompt below is to the point and concise."
   ]
  },
  {
   "cell_type": "code",
   "execution_count": 6,
   "metadata": {
    "id": "VHetn9lCYrXB",
    "tags": []
   },
   "outputs": [
    {
     "name": "stdout",
     "output_type": "stream",
     "text": [
      "Here are some names for a flower shop that sells bouquets of dried flowers, playing on different themes:\n",
      "\n",
      "**Classic & Elegant:**\n",
      "\n",
      "* The Dried Bloom\n",
      "* Everlasting Blooms\n",
      "* Bloom & Wither\n",
      "* The Dried Bouquet\n",
      "* The Floral Archive\n",
      "* Whispers of Bloom\n",
      "\n",
      "**Modern & Minimalistic:**\n",
      "\n",
      "* Bloom & Co.\n",
      "* Dried.\n",
      "* Everbloom\n",
      "* Petal Paper\n",
      "* Bloom & Shade\n",
      "\n",
      "**Rustic & Charming:**\n",
      "\n",
      "* The Dried Flower Barn\n",
      "* The Wildflower Co.\n",
      "* The Meadow Bouquet\n",
      "* Gather & Bloom\n",
      "* The Dried Garden\n",
      "* The Flower Press\n",
      "\n",
      "**Unique & Playful:**\n",
      "\n",
      "* Bloom & Dust\n",
      "* The Paper Petal\n",
      "* The Immortal Bouquet\n",
      "* Forever in Bloom\n",
      "* The Botanical Archive\n",
      "* The Pressed Petal\n",
      "\n",
      "**Tips for Choosing a Name:**\n",
      "\n",
      "* **Keep it short and memorable.**\n",
      "* **Reflect your brand's aesthetic.**\n",
      "* **Make sure it's easy to pronounce and spell.**\n",
      "* **Check for availability online and in your area.**\n",
      "* **Get feedback from friends and family.**\n",
      "\n",
      "**Bonus tip:** Consider incorporating a geographical element or your personal touch in the name to make it even more unique. Good luck! \n",
      "\n"
     ]
    }
   ],
   "source": [
    "prompt = \"Suggest a name for a flower shop that sells bouquets of dried flowers\"\n",
    "\n",
    "print(call_gemini(prompt))"
   ]
  },
  {
   "cell_type": "markdown",
   "metadata": {
    "id": "eXTAvdOHY0OC"
   },
   "source": [
    "### Be specific, and well-defined"
   ]
  },
  {
   "cell_type": "markdown",
   "metadata": {
    "id": "FTH4GEIgY1dp"
   },
   "source": [
    "Suppose that you want to brainstorm creative ways to describe Earth."
   ]
  },
  {
   "cell_type": "markdown",
   "metadata": {
    "id": "o5BmXBiGY4KC"
   },
   "source": [
    "🛑 The prompt below might be a bit too generic (which is certainly OK if you'd like to ask a generic question!)"
   ]
  },
  {
   "cell_type": "code",
   "execution_count": 9,
   "metadata": {
    "id": "eHBaMvv7Y6mR",
    "tags": []
   },
   "outputs": [
    {
     "name": "stdout",
     "output_type": "stream",
     "text": [
      "It seems you're asking how we can **continue living on Earth**.  Here's a breakdown of what that means:\n",
      "\n",
      "**1. Sustainable Living:**\n",
      "\n",
      "* **Conserving Resources:** We need to be mindful of using water, energy, and natural resources wisely. This includes reducing waste, using renewable energy sources, and practicing responsible consumption.\n",
      "* **Protecting Ecosystems:**  Maintaining healthy ecosystems like forests, oceans, and grasslands is crucial for clean air, water, and a stable climate. This involves combating pollution, deforestation, and habitat destruction. \n",
      "* **Managing Population Growth:**  Balancing population growth with Earth's carrying capacity is essential for sustainable living. This involves promoting family planning and addressing social and economic factors that influence population growth.\n",
      "\n",
      "**2. Addressing Climate Change:**\n",
      "\n",
      "* **Reducing Greenhouse Gas Emissions:**  We need to transition to cleaner energy sources, improve energy efficiency, and change our transportation habits to significantly reduce our carbon footprint.\n",
      "* **Adapting to Climate Impacts:**  As climate change progresses, we'll need to adapt to rising sea levels, extreme weather events, and other impacts. This might involve building infrastructure that is more resilient to these changes.\n",
      "\n",
      "**3. Fostering Global Cooperation:**\n",
      "\n",
      "* **International Collaboration:**  Addressing global challenges like climate change requires international cooperation. Sharing knowledge, resources, and technology is crucial for finding solutions.\n",
      "* **Promoting Equity:**  Environmental justice and ensuring equitable access to resources is vital for sustainable living.  This involves addressing disparities in how different communities are affected by environmental issues.\n",
      "\n",
      "**In essence, living on Earth sustainably means making choices that ensure our planet remains a habitable home for future generations.**  \n",
      "\n",
      "It's a complex challenge with no easy answers, but by embracing responsible practices and working together, we can create a better future for ourselves and the planet. \n",
      "\n"
     ]
    }
   ],
   "source": [
    "prompt = \"Tell me how we can live in earth\"\n",
    "\n",
    "print(call_gemini(prompt))"
   ]
  },
  {
   "cell_type": "markdown",
   "metadata": {
    "id": "4iyvEbteZnFL"
   },
   "source": [
    "✅ Recommended. The prompt below is specific and well-defined."
   ]
  },
  {
   "cell_type": "code",
   "execution_count": 8,
   "metadata": {
    "id": "JQ80z8urZnne",
    "tags": []
   },
   "outputs": [
    {
     "name": "stdout",
     "output_type": "stream",
     "text": [
      "## What Makes Earth Unique:\n",
      "\n",
      "**1. Liquid Water:** Earth is the only known planet in our solar system with abundant liquid water on its surface. This is crucial for life as we know it, providing a medium for chemical reactions and transport, and acting as a temperature regulator. \n",
      "\n",
      "**2. Plate Tectonics:** Earth's crust is divided into plates that move and interact, causing earthquakes, volcanic eruptions, and the formation of mountains and ocean basins. This dynamic process helps regulate the planet's climate and recycles nutrients.\n",
      "\n",
      "**3. Atmosphere:** Earth's atmosphere, primarily composed of nitrogen and oxygen, is a protective shield against harmful radiation from the Sun. It also traps heat, creating a hospitable climate and allowing for weather patterns. \n",
      "\n",
      "**4. Strong Magnetic Field:**  Earth's magnetic field acts as a shield against solar wind, protecting us from harmful charged particles. This shield is generated by the movement of molten iron in Earth's core.\n",
      "\n",
      "**5. Diverse Life:** Earth is the only known planet to harbor life, with an incredible variety of species adapted to different environments. This biodiversity is a result of complex interactions between living organisms and their environment, shaped by evolution over billions of years.\n",
      "\n",
      "**6. Moon's Influence:**  Our large moon, formed by a giant impact early in Earth's history, stabilizes our planet's axis, contributing to a relatively stable climate. The moon's gravitational pull also drives tides, which have played a significant role in the evolution of life on Earth.\n",
      "\n",
      "**7. Distance from the Sun:** Earth's distance from the Sun is just right for liquid water to exist on its surface, placing us within the \"Goldilocks Zone.\"  This unique location provides a perfect balance between receiving enough energy from the sun for life to thrive and not being too close to experience scorching temperatures.\n",
      "\n",
      "**8. Abundant Organic Molecules:** Earth has a rich abundance of organic molecules, essential building blocks for life, readily available. These molecules, found in abundance in rocks, oceans, and the atmosphere, point towards Earth's unique ability to support life.\n",
      "\n",
      "**9. Active Geological Processes:**  Earth's dynamic geology, driven by plate tectonics and volcanic activity, continuously reshapes the planet's surface. This constant change helps regulate climate, creates new habitats, and provides a constant source of nutrients for ecosystems.\n",
      "\n",
      "**10. Environmental Stability:** While Earth's climate and environment have fluctuated over time, the overall stability has allowed life to flourish and diversify. This long-term stability is likely due to a combination of factors, including Earth's magnetic field, atmosphere, and plate tectonics.\n",
      "\n",
      "These features make Earth a truly unique planet, capable of supporting the complex and diverse life we see around us. While we are still searching for other planets that may share some of these characteristics, Earth remains a remarkable example of a habitable world in the vastness of the universe. \n",
      "\n"
     ]
    }
   ],
   "source": [
    "prompt = \"Generate a list of ways that makes Earth unique compared to other planets\"\n",
    "\n",
    "print(call_gemini(prompt))"
   ]
  },
  {
   "cell_type": "markdown",
   "metadata": {
    "id": "R5kmfZYHZsJ7"
   },
   "source": [
    "### Ask one task at a time"
   ]
  },
  {
   "cell_type": "markdown",
   "metadata": {
    "id": "rsAezxeYZuUN"
   },
   "source": [
    "🛑 Not recommended. The prompt below has two parts to the question that could be asked separately."
   ]
  },
  {
   "cell_type": "code",
   "execution_count": 10,
   "metadata": {
    "id": "ElywPXpuZtWf",
    "tags": []
   },
   "outputs": [
    {
     "name": "stdout",
     "output_type": "stream",
     "text": [
      "Let's tackle these two questions separately:\n",
      "\n",
      "**Boiling Water:**\n",
      "\n",
      "There's no single \"best\" method for boiling water, as it depends on your needs and resources. Here are some common methods and their pros and cons:\n",
      "\n",
      "* **Stovetop:**\n",
      "    * **Pros:**  Versatile, widely available, usually quick.\n",
      "    * **Cons:** Can be less efficient than other methods, requires constant monitoring.\n",
      "* **Electric Kettle:**\n",
      "    * **Pros:** Fast, energy-efficient, automatic shut-off for safety.\n",
      "    * **Cons:** Can be bulky to store, only boils a limited amount of water.\n",
      "* **Microwave:**\n",
      "    * **Pros:** Fast for small amounts of water, convenient.\n",
      "    * **Cons:**  Doesn't heat water evenly, potential for splattering.\n",
      "* **Camping Stove:**\n",
      "    * **Pros:** Portable, ideal for outdoor use.\n",
      "    * **Cons:** Requires fuel, can be less efficient than other methods.\n",
      "\n",
      "**The Sky's Blue Hue:**\n",
      "\n",
      "The sky appears blue due to a phenomenon called **Rayleigh scattering**. Here's the breakdown:\n",
      "\n",
      "* **Sunlight:** Sunlight is made up of all the colors of the rainbow.\n",
      "* **Atmosphere:** Earth's atmosphere contains tiny particles, primarily nitrogen and oxygen molecules.\n",
      "* **Scattering:**  When sunlight enters the atmosphere, these tiny particles scatter the light.\n",
      "* **Wavelengths:** Blue light has a shorter wavelength than other colors. Shorter wavelengths scatter more effectively.\n",
      "* **Result:**  As sunlight travels through the atmosphere, blue light is scattered in all directions, making the sky appear blue.\n",
      "\n",
      "**Bonus:**  The sky appears red at sunrise and sunset because the sunlight has to travel through more of the atmosphere. This means more blue light is scattered away, leaving behind the longer wavelengths of red and orange. \n",
      "\n"
     ]
    }
   ],
   "source": [
    "prompt = \"What's the best method of boiling water and why is the sky blue?\"\n",
    "\n",
    "print(call_gemini(prompt))"
   ]
  },
  {
   "cell_type": "markdown",
   "metadata": {
    "id": "ejzahazBZ8vk"
   },
   "source": [
    "✅ Recommended. The prompts below asks one task a time."
   ]
  },
  {
   "cell_type": "code",
   "execution_count": 11,
   "metadata": {
    "id": "C5ckp2F0Z_Ba",
    "tags": []
   },
   "outputs": [
    {
     "name": "stdout",
     "output_type": "stream",
     "text": [
      "O melhor método para ferver água depende do seu objetivo e dos recursos disponíveis. Mas, em geral, o método mais eficiente e seguro é:\n",
      "\n",
      "**1. Ferver em uma panela:**\n",
      "\n",
      "* **Escolha uma panela adequada:** Use uma panela com fundo grosso e tamanho adequado à quantidade de água que você precisa ferver.\n",
      "* **Encha a panela com água:** Adicione a quantidade desejada de água, deixando um pouco de espaço para que a água não transborde durante o processo de fervura.\n",
      "* **Aqueça a água:** Coloque a panela no fogão e ligue o fogo médio-alto.\n",
      "* **Monitore a água:** Observe a água enquanto ela aquece. Quando começar a borbulhar e formar bolhas grandes e constantes, significa que a água ferveu.\n",
      "* **Desligue o fogo:** Retire a panela do fogo e use a água fervida como desejar.\n",
      "\n",
      "**Dicas:**\n",
      "\n",
      "* **Use água fria:** A água fria ferve mais rápido do que água morna ou quente.\n",
      "* **Não sobrecarregue a panela:** Deixar muito espaço livre na panela permite que a água ferva mais rapidamente e evita que transborde.\n",
      "* **Cuidado com o vapor:** Tenha cuidado ao lidar com água fervente, pois o vapor pode causar queimaduras graves.\n",
      "\n",
      "Outros métodos de ferver água incluem:\n",
      "\n",
      "* **Usar um forno de micro-ondas:** Este método é mais rápido, mas é importante verificar se o seu forno de micro-ondas é seguro para ferver água. \n",
      "* **Usar uma chaleira elétrica:** As chaleiras elétricas são convenientes e eficientes para ferver água rapidamente.\n",
      "\n",
      "Lembre-se de sempre usar água potável e de verificar a temperatura da água antes de usá-la para evitar queimaduras.\n",
      "\n"
     ]
    }
   ],
   "source": [
    "prompt = \"answer me in portuguese,What's the best method of boiling water?\"\n",
    "\n",
    "print(call_gemini(prompt))"
   ]
  },
  {
   "cell_type": "code",
   "execution_count": 13,
   "metadata": {
    "id": "KwUzhud4aA89",
    "tags": []
   },
   "outputs": [
    {
     "name": "stdout",
     "output_type": "stream",
     "text": [
      "O céu é azul devido à dispersão de Rayleigh da luz solar pela atmosfera terrestre. \n",
      "\n",
      "A luz do sol é composta por todas as cores do arco-íris. Quando a luz solar atinge a atmosfera, ela interage com as moléculas de ar, principalmente nitrogênio e oxigênio. As moléculas de ar são muito menores que o comprimento de onda da luz visível, e é por isso que a dispersão de Rayleigh ocorre. \n",
      "\n",
      "A dispersão de Rayleigh faz com que a luz azul, que tem um comprimento de onda menor, seja espalhada em todas as direções muito mais do que outras cores, como o vermelho, que tem um comprimento de onda maior. Essa dispersão da luz azul faz com que o céu pareça azul. \n",
      "\n",
      "É por isso que o céu parece mais azul em dias claros e menos azul em dias nublados. Quando o céu está nublado, as nuvens refletem todas as cores da luz solar igualmente, o que faz com que o céu pareça branco.\n",
      "\n"
     ]
    }
   ],
   "source": [
    "prompt = \"me responda em portugues, Why is the sky blue?\"\n",
    "\n",
    "print(call_gemini(prompt))"
   ]
  },
  {
   "cell_type": "markdown",
   "metadata": {
    "id": "PJIL2RTQaGcT"
   },
   "source": [
    "### Watch out for hallucinations"
   ]
  },
  {
   "cell_type": "markdown",
   "metadata": {
    "id": "8Y8kYxrSaHE9"
   },
   "source": [
    "Although LLMs have been trained on a large amount of data, they can generate text containing statements not grounded in truth or reality; these responses from the LLM are often referred to as \"hallucinations\" due to their limited memorization capabilities. Note that simply prompting the LLM to provide a citation isn't a fix to this problem, as there are instances of LLMs providing false or inaccurate citations. Dealing with hallucinations is a fundamental challenge of LLMs and an ongoing research area, so it is important to be cognizant that LLMs may seem to give you confident, correct-sounding statements that are in fact incorrect.\n",
    "\n",
    "Note that if you intend to use LLMs for the creative use cases, hallucinating could actually be quite useful."
   ]
  },
  {
   "cell_type": "markdown",
   "metadata": {
    "id": "8NY5nAGeaJYS"
   },
   "source": [
    "Try the prompt like the one below repeatedly. We set the temperature to 1.0 so that it takes more risks in its choices. It's possible that it may provide an inaccurate, but confident answer."
   ]
  },
  {
   "cell_type": "code",
   "execution_count": 14,
   "metadata": {
    "id": "QALPjEILaM62",
    "tags": []
   },
   "outputs": [
    {
     "name": "stdout",
     "output_type": "stream",
     "text": [
      "I do not have access to real-time information, including the current date. To know what day it is today, please check a calendar or ask a device with internet access. \n",
      "\n"
     ]
    }
   ],
   "source": [
    "generation_config = GenerationConfig(temperature=1.0)\n",
    "\n",
    "prompt = \"What day is it today?\"\n",
    "\n",
    "print(call_gemini(prompt, generation_config))"
   ]
  },
  {
   "cell_type": "markdown",
   "metadata": {
    "id": "BRkwzbgRbhKt"
   },
   "source": [
    "Since LLMs do not have access to real-time information without further integrations, you may have noticed it hallucinates what day it is today in some of the outputs."
   ]
  },
  {
   "cell_type": "markdown",
   "metadata": {
    "id": "3c811e310d02"
   },
   "source": [
    "### Using system instructions to guardrail the model from irrelevant responses\n",
    "\n",
    "How can we attempt to reduce the chances of irrelevant responses and hallucinations?\n",
    "\n",
    "One way is to provide the LLM with [system instructions](https://cloud.google.com/vertex-ai/generative-ai/docs/multimodal/send-chat-prompts-gemini#system-instructions).\n",
    "\n",
    "Let's see how system instructions works and how you can use them to reduce hallucinations or irrelevant questions for a travel chatbot.\n",
    "\n",
    "Suppose we ask a simple question about one of Italy's most famous tourist spots."
   ]
  },
  {
   "cell_type": "code",
   "execution_count": 15,
   "metadata": {
    "id": "rB6zJU76biFK",
    "tags": []
   },
   "outputs": [
    {
     "name": "stdout",
     "output_type": "stream",
     "text": [
      "Milan is a city full of amazing sights! To give you the best recommendation, I need a little more information. What are you most interested in seeing? \n",
      "\n",
      "* **Art and History:**  The Duomo,  Sforza Castle,  Leonardo da Vinci's Last Supper, Pinacoteca di Brera\n",
      "* **Fashion and Shopping:**  Via Montenapoleone, Galleria Vittorio Emanuele II, Corso Buenos Aires\n",
      "* **Food and Culture:**  Navigli canals,  Mercato Centrale,  Brera district\n",
      "\n",
      "Tell me what you're most interested in, and I can recommend the best places for you to visit! \n",
      "\n"
     ]
    }
   ],
   "source": [
    "model_travel = GenerativeModel(\n",
    "    model_name=\"gemini-1.5-flash\",\n",
    "    system_instruction=[\n",
    "        \"Hello! You are an AI chatbot for a travel web site.\",\n",
    "        \"Your mission is to provide helpful queries for travelers.\",\n",
    "        \"Remember that before you answer a question, you must check to see if it complies with your mission.\",\n",
    "        \"If not, you can say, Sorry I can't answer that question.\",\n",
    "    ],\n",
    ")\n",
    "\n",
    "chat = model_travel.start_chat()\n",
    "\n",
    "prompt = \"What is the best place for sightseeing in Milan, Italy?\"\n",
    "\n",
    "print(send_message_gemini(chat, prompt))"
   ]
  },
  {
   "cell_type": "markdown",
   "metadata": {
    "id": "WZa-Qcf9cF4A"
   },
   "source": [
    "Now let us pretend to be a user asks the chatbot a question that is unrelated to travel."
   ]
  },
  {
   "cell_type": "code",
   "execution_count": 16,
   "metadata": {
    "id": "AZKBIDr2cGnu",
    "tags": []
   },
   "outputs": [
    {
     "name": "stdout",
     "output_type": "stream",
     "text": [
      "Sorry, I can't answer that question. I'm designed to help travelers with planning their trips, and that includes finding restaurants and recommending dishes.  But I can't tell you what to eat for dinner tonight!  😊 \n",
      "\n",
      "Do you have any questions about restaurants in Milan? Perhaps you're looking for a specific type of cuisine, or a restaurant with a certain atmosphere? \n",
      "\n"
     ]
    }
   ],
   "source": [
    "prompt = \"What's for dinner?\"\n",
    "\n",
    "print(send_message_gemini(chat, prompt))"
   ]
  },
  {
   "cell_type": "markdown",
   "metadata": {
    "id": "JiUYIhwpctCy"
   },
   "source": [
    "You can see that this way, a guardrail in the prompt prevented the chatbot from veering off course."
   ]
  },
  {
   "cell_type": "markdown",
   "metadata": {
    "id": "ZuuDhA37cvmP"
   },
   "source": [
    "### Turn generative tasks into classification tasks to reduce output variability"
   ]
  },
  {
   "cell_type": "markdown",
   "metadata": {
    "id": "kUCUrsUzczmb"
   },
   "source": [
    "#### Generative tasks lead to higher output variability"
   ]
  },
  {
   "cell_type": "markdown",
   "metadata": {
    "id": "a1xASHAkc46n"
   },
   "source": [
    "The prompt below results in an open-ended response, useful for brainstorming, but response is highly variable."
   ]
  },
  {
   "cell_type": "code",
   "execution_count": 17,
   "metadata": {
    "id": "nPfXQWIacwRf",
    "tags": []
   },
   "outputs": [
    {
     "name": "stdout",
     "output_type": "stream",
     "text": [
      "Here are some programming activities you can try, tailored to different skill levels and interests:\n",
      "\n",
      "**Beginner:**\n",
      "\n",
      "* **Build a text-based adventure game:** Use simple logic and conditional statements to create a story where the user makes choices that affect the outcome.  You can find tutorials online that break down the process. \n",
      "* **Create a simple calculator:** This project helps you practice basic arithmetic operations and input/output techniques.\n",
      "* **Learn to code a basic website:** You can use HTML, CSS, and a bit of JavaScript to create a simple website with text, images, and links.\n",
      "\n",
      "**Intermediate:**\n",
      "\n",
      "* **Develop a simple game using a game library:** Use a library like Pygame (for Python) or Unity (for C#) to create a simple 2D game. This will teach you about game mechanics, graphics, and event handling.\n",
      "* **Build a basic command-line tool:**  Learn to interact with the user through the command line, read files, and perform simple tasks.  \n",
      "* **Contribute to an open-source project:**  Find a project on GitHub that interests you and offer to help with bug fixes or improvements.  \n",
      "\n",
      "**Advanced:**\n",
      "\n",
      "* **Create a machine learning application:**  Use libraries like scikit-learn (for Python) to create a program that learns from data and makes predictions. \n",
      "* **Build a web application with a database:** Use languages like Python (with Django) or Node.js (with Express) to build a web application that interacts with a database like PostgreSQL or MongoDB.\n",
      "* **Develop a mobile app:** Learn about Android development (Java or Kotlin) or iOS development (Swift) to create apps for smartphones.\n",
      "\n",
      "**Beyond the Project:**\n",
      "\n",
      "* **Participate in online coding challenges:**  Websites like Codewars, HackerRank, and LeetCode offer various coding challenges to test and improve your skills.\n",
      "* **Read programming books and articles:** Explore books on algorithms, data structures, and design patterns to deepen your understanding of programming concepts.\n",
      "* **Join a programming community:**  Connect with other programmers online or in your local area for collaboration and knowledge sharing.\n",
      "\n",
      "**Remember:**\n",
      "\n",
      "* **Start with something you enjoy:** Choose a project that interests you, as this will keep you motivated and engaged.\n",
      "* **Break down the project into smaller steps:**  Don't try to do everything at once.  Divide the project into smaller, manageable tasks.\n",
      "* **Don't be afraid to ask for help:**  If you get stuck, there are plenty of resources available online and in your community to provide support.\n",
      "\n",
      "Have fun, be creative, and enjoy the process of learning! \n",
      "\n"
     ]
    }
   ],
   "source": [
    "prompt = \"I'm a high school student. Recommend me a programming activity to improve my skills.\"\n",
    "\n",
    "print(call_gemini(prompt))"
   ]
  },
  {
   "cell_type": "markdown",
   "metadata": {
    "id": "iAmm9wPYc_1o"
   },
   "source": [
    "#### Classification tasks reduces output variability"
   ]
  },
  {
   "cell_type": "markdown",
   "metadata": {
    "id": "VvRpK_0GdCpf"
   },
   "source": [
    "The prompt below results in a choice and may be useful if you want the output to be easier to control."
   ]
  },
  {
   "cell_type": "code",
   "execution_count": 18,
   "metadata": {
    "id": "kYDKh0r2dAqo",
    "tags": []
   },
   "outputs": [
    {
     "name": "stdout",
     "output_type": "stream",
     "text": [
      "It's great that you're thinking about learning programming! Here's a breakdown of the languages you listed, along with factors to consider when making your choice:\n",
      "\n",
      "**a) Learn Python:**\n",
      "\n",
      "* **Pros:**\n",
      "    * **Beginner-friendly:** Python is known for its clean syntax and readability, making it a great starting point for beginners.\n",
      "    * **Versatile:**  Used in a wide range of applications, from web development and data analysis to machine learning and scientific computing.\n",
      "    * **Large Community & Resources:**  Strong support network, abundant online tutorials, and libraries. \n",
      "* **Cons:**\n",
      "    * **Performance:**  Can be slower than compiled languages like C or Java for computationally intensive tasks.\n",
      "* **Who it's good for:** Beginners, those interested in data science, web development, or general-purpose programming.\n",
      "\n",
      "**b) Learn JavaScript:**\n",
      "\n",
      "* **Pros:**\n",
      "    * **Web Dominance:**  Essential for front-end web development, adding interactivity to websites. \n",
      "    * **Node.js for Back-end:** Can also be used for server-side development with Node.js.\n",
      "    * **Highly In-Demand:**  High demand for JavaScript developers in the industry.\n",
      "* **Cons:**\n",
      "    * **Can be complex:**  JavaScript can be challenging to master, especially for beginners.\n",
      "* **Who it's good for:** Those interested in web development, front-end design, or mobile app development.\n",
      "\n",
      "**c) Learn Fortran:**\n",
      "\n",
      "* **Pros:**\n",
      "    * **Scientific Computing:**  Historically popular in scientific and numerical computing, still used in high-performance computing.\n",
      "    * **Legacy Code:** If you'll be working with existing Fortran code, learning it is essential.\n",
      "* **Cons:**\n",
      "    * **Outdated:**  Less popular for new projects compared to other languages.\n",
      "    * **Steeper Learning Curve:**  Syntax can be less intuitive for beginners.\n",
      "* **Who it's good for:**  Those studying physics, engineering, or other science fields, or working with legacy systems.\n",
      "\n",
      "**d) Learn Java:**\n",
      "\n",
      "* **Pros:**\n",
      "    * **Robust:**  Known for its stability and reliability.\n",
      "    * **Object-Oriented:**  Strong foundation in object-oriented programming principles.\n",
      "    * **Widely Used:**  Popular for enterprise applications, Android development, and more.\n",
      "* **Cons:**\n",
      "    * **Verbose:**  Syntax can be more complex than Python or JavaScript.\n",
      "    * **Not as beginner-friendly as Python.**\n",
      "* **Who it's good for:** Those interested in Android development, enterprise applications, or back-end development.\n",
      "\n",
      "**Things to Consider:**\n",
      "\n",
      "* **Your Interests:**  What type of programming do you find most appealing?  Web development? Data analysis? Gaming?\n",
      "* **Your Goals:**  Do you want to learn a language for a specific purpose, or for general programming skills?\n",
      "* **Your Learning Style:**  Do you prefer a more structured approach, or a more hands-on learning experience?\n",
      "\n",
      "**Recommendations:**\n",
      "\n",
      "* **Beginner:**  **Python** is a great starting point due to its ease of use and versatility. \n",
      "* **Web Development:**  **JavaScript** is essential for front-end web development.\n",
      "* **Scientific Computing:**  **Fortran** might be a good option if you're focused on that specific area.\n",
      "* **Enterprise Development:**  **Java** is a strong choice for large-scale, enterprise-level applications.\n",
      "\n",
      "**Ultimately, the best language to learn is the one that best fits your individual interests and goals.  Don't be afraid to experiment and try out different languages to see which one you enjoy the most!** \n",
      "\n"
     ]
    }
   ],
   "source": [
    "prompt = \"\"\"I'm a high school student. Which of these activities do you suggest and why:\n",
    "a) learn Python\n",
    "b) learn JavaScript\n",
    "c) learn Fortran\n",
    "d) learn Java\n",
    "\"\"\"\n",
    "\n",
    "print(call_gemini(prompt))"
   ]
  },
  {
   "cell_type": "markdown",
   "metadata": {
    "id": "iTd60b1GdIsx"
   },
   "source": [
    "### Improve response quality by including examples"
   ]
  },
  {
   "cell_type": "markdown",
   "metadata": {
    "id": "yJi44NejdJYE"
   },
   "source": [
    "Another way to improve response quality is to add examples in your prompt. The LLM learns in-context from the examples on how to respond. Typically, one to five examples (shots) are enough to improve the quality of responses. Including too many examples can cause the model to over-fit the data and reduce the quality of responses.\n",
    "\n",
    "Similar to classical model training, the quality and distribution of the examples is very important. Pick examples that are representative of the scenarios that you need the model to learn, and keep the distribution of the examples (e.g. number of examples per class in the case of classification) aligned with your actual distribution."
   ]
  },
  {
   "cell_type": "markdown",
   "metadata": {
    "id": "sMbLginWdOKs"
   },
   "source": [
    "#### Zero-shot prompt"
   ]
  },
  {
   "cell_type": "markdown",
   "metadata": {
    "id": "Crh2Loi2dQ0v"
   },
   "source": [
    "Below is an example of zero-shot prompting, where you don't provide any examples to the LLM within the prompt itself."
   ]
  },
  {
   "cell_type": "code",
   "execution_count": 20,
   "metadata": {
    "id": "-7myRc-SdTQ4",
    "tags": []
   },
   "outputs": [
    {
     "name": "stdout",
     "output_type": "stream",
     "text": [
      "Sentiment: **Negative** \n",
      "\n"
     ]
    }
   ],
   "source": [
    "prompt = \"\"\"Decide whether a Tweet's sentiment is positive, neutral, or negative.\n",
    "\n",
    "Tweet: I hate the new YouTube video you made!\n",
    "Sentiment:\n",
    "\"\"\"\n",
    "\n",
    "print(call_gemini(prompt))"
   ]
  },
  {
   "cell_type": "markdown",
   "metadata": {
    "id": "ucRtPn9SdL64"
   },
   "source": [
    "#### One-shot prompt"
   ]
  },
  {
   "cell_type": "markdown",
   "metadata": {
    "id": "rs0gQH2vdYBi"
   },
   "source": [
    "Below is an example of one-shot prompting, where you provide one example to the LLM within the prompt to give some guidance on what type of response you want."
   ]
  },
  {
   "cell_type": "code",
   "execution_count": 21,
   "metadata": {
    "id": "iEq-KxGYdaT5",
    "tags": []
   },
   "outputs": [
    {
     "name": "stdout",
     "output_type": "stream",
     "text": [
      "Sentiment: **negative** \n",
      "\n"
     ]
    }
   ],
   "source": [
    "prompt = \"\"\"Decide whether a Tweet's sentiment is positive, neutral, or negative.\n",
    "\n",
    "Tweet: I loved the new YouTube video you made!\n",
    "Sentiment: positive\n",
    "\n",
    "Tweet: That was awful. Super boring 😠\n",
    "Sentiment:\n",
    "\"\"\"\n",
    "\n",
    "print(call_gemini(prompt))"
   ]
  },
  {
   "cell_type": "markdown",
   "metadata": {
    "id": "JnKLjJzmdfL_"
   },
   "source": [
    "#### Few-shot prompt"
   ]
  },
  {
   "cell_type": "markdown",
   "metadata": {
    "id": "6Zv-9F5OdgI_"
   },
   "source": [
    "Below is an example of few-shot prompting, where you provide a few examples to the LLM within the prompt to give some guidance on what type of response you want."
   ]
  },
  {
   "cell_type": "code",
   "execution_count": 22,
   "metadata": {
    "id": "u37P9tG4dk9S",
    "tags": []
   },
   "outputs": [
    {
     "name": "stdout",
     "output_type": "stream",
     "text": [
      "Sentiment: **Positive** \n",
      "\n",
      "Here's why:\n",
      "\n",
      "* **\"Something surprised me\"**  implies a positive experience.\n",
      "* **\"It was actually original\"** is a clear positive statement.\n",
      "* **\"It was not the same old recycled stuff\"**  indicates a positive departure from the norm. \n",
      "* **\"Watch it - you will not regret it\"** strongly suggests the video is enjoyable. \n",
      "\n"
     ]
    }
   ],
   "source": [
    "prompt = \"\"\"Decide whether a Tweet's sentiment is positive, neutral, or negative.\n",
    "\n",
    "Tweet: I loved the new YouTube video you made!\n",
    "Sentiment: positive\n",
    "\n",
    "Tweet: That was awful. Super boring 😠\n",
    "Sentiment: negative\n",
    "\n",
    "Tweet: Something surprised me about this video - it was actually original. It was not the same old recycled stuff that I always see. Watch it - you will not regret it.\n",
    "Sentiment:\n",
    "\"\"\"\n",
    "\n",
    "print(call_gemini(prompt))"
   ]
  },
  {
   "cell_type": "markdown",
   "metadata": {
    "id": "wDMD3xb2dvX6"
   },
   "source": [
    "#### Choosing between zero-shot, one-shot, few-shot prompting methods"
   ]
  },
  {
   "cell_type": "markdown",
   "metadata": {
    "id": "s92W0YpNdxJp"
   },
   "source": [
    "Which prompt technique to use will solely depends on your goal. The zero-shot prompts are more open-ended and can give you creative answers, while one-shot and few-shot prompts teach the model how to behave so you can get more predictable answers that are consistent with the examples provided."
   ]
  }
 ],
 "metadata": {
  "colab": {
   "name": "intro_prompt_design.ipynb",
   "toc_visible": true
  },
  "environment": {
   "kernel": "conda-base-py",
   "name": "workbench-notebooks.m125",
   "type": "gcloud",
   "uri": "us-docker.pkg.dev/deeplearning-platform-release/gcr.io/workbench-notebooks:m125"
  },
  "kernelspec": {
   "display_name": "Python 3 (ipykernel) (Local) (Local)",
   "language": "python",
   "name": "conda-base-py"
  },
  "language_info": {
   "codemirror_mode": {
    "name": "ipython",
    "version": 3
   },
   "file_extension": ".py",
   "mimetype": "text/x-python",
   "name": "python",
   "nbconvert_exporter": "python",
   "pygments_lexer": "ipython3",
   "version": "3.10.15"
  }
 },
 "nbformat": 4,
 "nbformat_minor": 4
}
