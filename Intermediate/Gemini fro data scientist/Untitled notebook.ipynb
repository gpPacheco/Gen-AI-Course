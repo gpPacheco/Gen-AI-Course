{
  "nbformat": 4,
  "nbformat_minor": 0,
  "metadata": {
    "colab": {
      "cell_execution_strategy": "setup",
      "provenance": []
    },
    "kernelspec": {
      "name": "python3",
      "display_name": "Python 3"
    },
    "language_info": {
      "name": "python"
    },
    "widgets": {
      "application/vnd.jupyter.widget-state+json": {
        "d72c42e3be144f11aa229d086f7c58b3": {
          "model_module": "@jupyter-widgets/controls",
          "model_name": "HBoxModel",
          "model_module_version": "1.5.0",
          "state": {
            "_dom_classes": [],
            "_model_module": "@jupyter-widgets/controls",
            "_model_module_version": "1.5.0",
            "_model_name": "HBoxModel",
            "_view_count": null,
            "_view_module": "@jupyter-widgets/controls",
            "_view_module_version": "1.5.0",
            "_view_name": "HBoxView",
            "box_style": "",
            "children": [
              "IPY_MODEL_15726550b0c84496809d58bda50757b8",
              "IPY_MODEL_98363f7791fe4d26a51be4319d36a78f",
              "IPY_MODEL_dd9d0cb73268476db8e3152c3ade8d7b"
            ],
            "layout": "IPY_MODEL_2b4fcd37919d47a2b97450498d120ab6"
          }
        },
        "15726550b0c84496809d58bda50757b8": {
          "model_module": "@jupyter-widgets/controls",
          "model_name": "HTMLModel",
          "model_module_version": "1.5.0",
          "state": {
            "_dom_classes": [],
            "_model_module": "@jupyter-widgets/controls",
            "_model_module_version": "1.5.0",
            "_model_name": "HTMLModel",
            "_view_count": null,
            "_view_module": "@jupyter-widgets/controls",
            "_view_module_version": "1.5.0",
            "_view_name": "HTMLView",
            "description": "",
            "description_tooltip": null,
            "layout": "IPY_MODEL_6ca5d5df716844cf975c31a91733c189",
            "placeholder": "​",
            "style": "IPY_MODEL_b82a432e6f20425cb03d6448bb381805",
            "value": "Job ID 74ebec12-a94d-4f51-b579-03985603b87b successfully executed: 100%"
          }
        },
        "98363f7791fe4d26a51be4319d36a78f": {
          "model_module": "@jupyter-widgets/controls",
          "model_name": "FloatProgressModel",
          "model_module_version": "1.5.0",
          "state": {
            "_dom_classes": [],
            "_model_module": "@jupyter-widgets/controls",
            "_model_module_version": "1.5.0",
            "_model_name": "FloatProgressModel",
            "_view_count": null,
            "_view_module": "@jupyter-widgets/controls",
            "_view_module_version": "1.5.0",
            "_view_name": "ProgressView",
            "bar_style": "success",
            "description": "",
            "description_tooltip": null,
            "layout": "IPY_MODEL_33279ef2f79e43e9b57e3358e2bca7a9",
            "max": 1,
            "min": 0,
            "orientation": "horizontal",
            "style": "IPY_MODEL_719c4f746dd04499b28618a4f171a281",
            "value": 1
          }
        },
        "dd9d0cb73268476db8e3152c3ade8d7b": {
          "model_module": "@jupyter-widgets/controls",
          "model_name": "HTMLModel",
          "model_module_version": "1.5.0",
          "state": {
            "_dom_classes": [],
            "_model_module": "@jupyter-widgets/controls",
            "_model_module_version": "1.5.0",
            "_model_name": "HTMLModel",
            "_view_count": null,
            "_view_module": "@jupyter-widgets/controls",
            "_view_module_version": "1.5.0",
            "_view_name": "HTMLView",
            "description": "",
            "description_tooltip": null,
            "layout": "IPY_MODEL_0e0cd6fd631049bb8bf5a5fff1f40cd8",
            "placeholder": "​",
            "style": "IPY_MODEL_8fd5029447d14ad2866dbb11f9b43ca5",
            "value": ""
          }
        },
        "2b4fcd37919d47a2b97450498d120ab6": {
          "model_module": "@jupyter-widgets/base",
          "model_name": "LayoutModel",
          "model_module_version": "1.2.0",
          "state": {
            "_model_module": "@jupyter-widgets/base",
            "_model_module_version": "1.2.0",
            "_model_name": "LayoutModel",
            "_view_count": null,
            "_view_module": "@jupyter-widgets/base",
            "_view_module_version": "1.2.0",
            "_view_name": "LayoutView",
            "align_content": null,
            "align_items": null,
            "align_self": null,
            "border": null,
            "bottom": null,
            "display": null,
            "flex": null,
            "flex_flow": null,
            "grid_area": null,
            "grid_auto_columns": null,
            "grid_auto_flow": null,
            "grid_auto_rows": null,
            "grid_column": null,
            "grid_gap": null,
            "grid_row": null,
            "grid_template_areas": null,
            "grid_template_columns": null,
            "grid_template_rows": null,
            "height": null,
            "justify_content": null,
            "justify_items": null,
            "left": null,
            "margin": null,
            "max_height": null,
            "max_width": null,
            "min_height": null,
            "min_width": null,
            "object_fit": null,
            "object_position": null,
            "order": null,
            "overflow": null,
            "overflow_x": null,
            "overflow_y": null,
            "padding": null,
            "right": null,
            "top": null,
            "visibility": null,
            "width": null
          }
        },
        "6ca5d5df716844cf975c31a91733c189": {
          "model_module": "@jupyter-widgets/base",
          "model_name": "LayoutModel",
          "model_module_version": "1.2.0",
          "state": {
            "_model_module": "@jupyter-widgets/base",
            "_model_module_version": "1.2.0",
            "_model_name": "LayoutModel",
            "_view_count": null,
            "_view_module": "@jupyter-widgets/base",
            "_view_module_version": "1.2.0",
            "_view_name": "LayoutView",
            "align_content": null,
            "align_items": null,
            "align_self": null,
            "border": null,
            "bottom": null,
            "display": null,
            "flex": null,
            "flex_flow": null,
            "grid_area": null,
            "grid_auto_columns": null,
            "grid_auto_flow": null,
            "grid_auto_rows": null,
            "grid_column": null,
            "grid_gap": null,
            "grid_row": null,
            "grid_template_areas": null,
            "grid_template_columns": null,
            "grid_template_rows": null,
            "height": null,
            "justify_content": null,
            "justify_items": null,
            "left": null,
            "margin": null,
            "max_height": null,
            "max_width": null,
            "min_height": null,
            "min_width": null,
            "object_fit": null,
            "object_position": null,
            "order": null,
            "overflow": null,
            "overflow_x": null,
            "overflow_y": null,
            "padding": null,
            "right": null,
            "top": null,
            "visibility": null,
            "width": null
          }
        },
        "b82a432e6f20425cb03d6448bb381805": {
          "model_module": "@jupyter-widgets/controls",
          "model_name": "DescriptionStyleModel",
          "model_module_version": "1.5.0",
          "state": {
            "_model_module": "@jupyter-widgets/controls",
            "_model_module_version": "1.5.0",
            "_model_name": "DescriptionStyleModel",
            "_view_count": null,
            "_view_module": "@jupyter-widgets/base",
            "_view_module_version": "1.2.0",
            "_view_name": "StyleView",
            "description_width": ""
          }
        },
        "33279ef2f79e43e9b57e3358e2bca7a9": {
          "model_module": "@jupyter-widgets/base",
          "model_name": "LayoutModel",
          "model_module_version": "1.2.0",
          "state": {
            "_model_module": "@jupyter-widgets/base",
            "_model_module_version": "1.2.0",
            "_model_name": "LayoutModel",
            "_view_count": null,
            "_view_module": "@jupyter-widgets/base",
            "_view_module_version": "1.2.0",
            "_view_name": "LayoutView",
            "align_content": null,
            "align_items": null,
            "align_self": null,
            "border": null,
            "bottom": null,
            "display": null,
            "flex": null,
            "flex_flow": null,
            "grid_area": null,
            "grid_auto_columns": null,
            "grid_auto_flow": null,
            "grid_auto_rows": null,
            "grid_column": null,
            "grid_gap": null,
            "grid_row": null,
            "grid_template_areas": null,
            "grid_template_columns": null,
            "grid_template_rows": null,
            "height": null,
            "justify_content": null,
            "justify_items": null,
            "left": null,
            "margin": null,
            "max_height": null,
            "max_width": null,
            "min_height": null,
            "min_width": null,
            "object_fit": null,
            "object_position": null,
            "order": null,
            "overflow": null,
            "overflow_x": null,
            "overflow_y": null,
            "padding": null,
            "right": null,
            "top": null,
            "visibility": null,
            "width": null
          }
        },
        "719c4f746dd04499b28618a4f171a281": {
          "model_module": "@jupyter-widgets/controls",
          "model_name": "ProgressStyleModel",
          "model_module_version": "1.5.0",
          "state": {
            "_model_module": "@jupyter-widgets/controls",
            "_model_module_version": "1.5.0",
            "_model_name": "ProgressStyleModel",
            "_view_count": null,
            "_view_module": "@jupyter-widgets/base",
            "_view_module_version": "1.2.0",
            "_view_name": "StyleView",
            "bar_color": null,
            "description_width": ""
          }
        },
        "0e0cd6fd631049bb8bf5a5fff1f40cd8": {
          "model_module": "@jupyter-widgets/base",
          "model_name": "LayoutModel",
          "model_module_version": "1.2.0",
          "state": {
            "_model_module": "@jupyter-widgets/base",
            "_model_module_version": "1.2.0",
            "_model_name": "LayoutModel",
            "_view_count": null,
            "_view_module": "@jupyter-widgets/base",
            "_view_module_version": "1.2.0",
            "_view_name": "LayoutView",
            "align_content": null,
            "align_items": null,
            "align_self": null,
            "border": null,
            "bottom": null,
            "display": null,
            "flex": null,
            "flex_flow": null,
            "grid_area": null,
            "grid_auto_columns": null,
            "grid_auto_flow": null,
            "grid_auto_rows": null,
            "grid_column": null,
            "grid_gap": null,
            "grid_row": null,
            "grid_template_areas": null,
            "grid_template_columns": null,
            "grid_template_rows": null,
            "height": null,
            "justify_content": null,
            "justify_items": null,
            "left": null,
            "margin": null,
            "max_height": null,
            "max_width": null,
            "min_height": null,
            "min_width": null,
            "object_fit": null,
            "object_position": null,
            "order": null,
            "overflow": null,
            "overflow_x": null,
            "overflow_y": null,
            "padding": null,
            "right": null,
            "top": null,
            "visibility": null,
            "width": null
          }
        },
        "8fd5029447d14ad2866dbb11f9b43ca5": {
          "model_module": "@jupyter-widgets/controls",
          "model_name": "DescriptionStyleModel",
          "model_module_version": "1.5.0",
          "state": {
            "_model_module": "@jupyter-widgets/controls",
            "_model_module_version": "1.5.0",
            "_model_name": "DescriptionStyleModel",
            "_view_count": null,
            "_view_module": "@jupyter-widgets/base",
            "_view_module_version": "1.2.0",
            "_view_name": "StyleView",
            "description_width": ""
          }
        }
      }
    }
  },
  "cells": [
    {
      "cell_type": "code",
      "source": [
        "from google.cloud import bigquery\n",
        "from google.cloud import aiplatform\n",
        "import bigframes.pandas as bpd\n",
        "import pandas as pd\n",
        "from vertexai.language_models._language_models import TextGenerationModel\n",
        "from vertexai.generative_models import GenerativeModel\n",
        "from bigframes.ml.cluster import KMeans\n",
        "from bigframes.ml.model_selection import train_test_split"
      ],
      "metadata": {
        "id": "DQz52TUHjVH1",
        "executionInfo": {
          "status": "ok",
          "timestamp": 1734723119519,
          "user_tz": 180,
          "elapsed": 16641,
          "user": {
            "displayName": "",
            "userId": ""
          }
        }
      },
      "execution_count": 1,
      "outputs": []
    },
    {
      "cell_type": "code",
      "source": [
        "project_id = 'qwiklabs-gcp-04-0fc8940702f2'\n",
        "dataset_name = \"ecommerce\"\n",
        "model_name = \"customer_segmentation_model\"\n",
        "table_name = \"customer_stats\"\n",
        "location = \"us-central1\"\n",
        "client = bigquery.Client(project=project_id)\n",
        "aiplatform.init(project=project_id, location=location)"
      ],
      "metadata": {
        "id": "wNiazlsUkdnN",
        "executionInfo": {
          "status": "ok",
          "timestamp": 1734723367103,
          "user_tz": 180,
          "elapsed": 887,
          "user": {
            "displayName": "",
            "userId": ""
          }
        }
      },
      "execution_count": 2,
      "outputs": []
    },
    {
      "cell_type": "code",
      "source": [
        "%%bigquery\n",
        "CREATE OR REPLACE TABLE ecommerce.customer_stats AS\n",
        "SELECT\n",
        "  user_id,\n",
        "  DATE_DIFF(CURRENT_DATE(), CAST(MAX(order_created_date) AS DATE), day) AS days_since_last_order, ---RECENCY\n",
        "  COUNT(order_id) AS count_orders, --FREQUENCY\n",
        "  AVG(sale_price) AS average_spend --MONETARY\n",
        "  FROM (\n",
        "      SELECT\n",
        "        user_id,\n",
        "        order_id,\n",
        "        sale_price,\n",
        "        created_at AS order_created_date\n",
        "        FROM `bigquery-public-data.thelook_ecommerce.order_items`\n",
        "        WHERE\n",
        "        created_at\n",
        "            BETWEEN '2022-01-01' AND '2023-01-01'\n",
        "  )\n",
        "GROUP BY user_id;"
      ],
      "metadata": {
        "colab": {
          "base_uri": "https://localhost:8080/",
          "height": 85,
          "referenced_widgets": [
            "d72c42e3be144f11aa229d086f7c58b3",
            "15726550b0c84496809d58bda50757b8",
            "98363f7791fe4d26a51be4319d36a78f",
            "dd9d0cb73268476db8e3152c3ade8d7b",
            "2b4fcd37919d47a2b97450498d120ab6",
            "6ca5d5df716844cf975c31a91733c189",
            "b82a432e6f20425cb03d6448bb381805",
            "33279ef2f79e43e9b57e3358e2bca7a9",
            "719c4f746dd04499b28618a4f171a281",
            "0e0cd6fd631049bb8bf5a5fff1f40cd8",
            "8fd5029447d14ad2866dbb11f9b43ca5"
          ]
        },
        "id": "KQJ8RJ-Ikqt1",
        "executionInfo": {
          "status": "ok",
          "timestamp": 1734723431080,
          "user_tz": 180,
          "elapsed": 3830,
          "user": {
            "displayName": "",
            "userId": ""
          }
        },
        "outputId": "1c7cbf86-dee5-4e43-db7f-b0ba2ce945c6"
      },
      "execution_count": 3,
      "outputs": [
        {
          "output_type": "display_data",
          "data": {
            "text/plain": [
              "Query is running:   0%|          |"
            ],
            "application/vnd.jupyter.widget-view+json": {
              "version_major": 2,
              "version_minor": 0,
              "model_id": "d72c42e3be144f11aa229d086f7c58b3"
            }
          },
          "metadata": {}
        },
        {
          "output_type": "execute_result",
          "data": {
            "text/plain": [
              "Empty DataFrame\n",
              "Columns: []\n",
              "Index: []"
            ],
            "text/html": [
              "\n",
              "  <div id=\"df-b6fb98b1-ad09-4595-8e8e-4070ec078411\" class=\"colab-df-container\">\n",
              "    <div>\n",
              "<style scoped>\n",
              "    .dataframe tbody tr th:only-of-type {\n",
              "        vertical-align: middle;\n",
              "    }\n",
              "\n",
              "    .dataframe tbody tr th {\n",
              "        vertical-align: top;\n",
              "    }\n",
              "\n",
              "    .dataframe thead th {\n",
              "        text-align: right;\n",
              "    }\n",
              "</style>\n",
              "<table border=\"1\" class=\"dataframe\">\n",
              "  <thead>\n",
              "    <tr style=\"text-align: right;\">\n",
              "      <th></th>\n",
              "    </tr>\n",
              "  </thead>\n",
              "  <tbody>\n",
              "  </tbody>\n",
              "</table>\n",
              "</div>\n",
              "    <div class=\"colab-df-buttons\">\n",
              "\n",
              "  <div class=\"colab-df-container\">\n",
              "    <button class=\"colab-df-convert\" onclick=\"convertToInteractive('df-b6fb98b1-ad09-4595-8e8e-4070ec078411')\"\n",
              "            title=\"Convert this dataframe to an interactive table.\"\n",
              "            style=\"display:none;\">\n",
              "\n",
              "  <svg xmlns=\"http://www.w3.org/2000/svg\" height=\"24px\" viewBox=\"0 -960 960 960\">\n",
              "    <path d=\"M120-120v-720h720v720H120Zm60-500h600v-160H180v160Zm220 220h160v-160H400v160Zm0 220h160v-160H400v160ZM180-400h160v-160H180v160Zm440 0h160v-160H620v160ZM180-180h160v-160H180v160Zm440 0h160v-160H620v160Z\"/>\n",
              "  </svg>\n",
              "    </button>\n",
              "\n",
              "  <style>\n",
              "    .colab-df-container {\n",
              "      display:flex;\n",
              "      gap: 12px;\n",
              "    }\n",
              "\n",
              "    .colab-df-convert {\n",
              "      background-color: #E8F0FE;\n",
              "      border: none;\n",
              "      border-radius: 50%;\n",
              "      cursor: pointer;\n",
              "      display: none;\n",
              "      fill: #1967D2;\n",
              "      height: 32px;\n",
              "      padding: 0 0 0 0;\n",
              "      width: 32px;\n",
              "    }\n",
              "\n",
              "    .colab-df-convert:hover {\n",
              "      background-color: #E2EBFA;\n",
              "      box-shadow: 0px 1px 2px rgba(60, 64, 67, 0.3), 0px 1px 3px 1px rgba(60, 64, 67, 0.15);\n",
              "      fill: #174EA6;\n",
              "    }\n",
              "\n",
              "    .colab-df-buttons div {\n",
              "      margin-bottom: 4px;\n",
              "    }\n",
              "\n",
              "    [theme=dark] .colab-df-convert {\n",
              "      background-color: #3B4455;\n",
              "      fill: #D2E3FC;\n",
              "    }\n",
              "\n",
              "    [theme=dark] .colab-df-convert:hover {\n",
              "      background-color: #434B5C;\n",
              "      box-shadow: 0px 1px 3px 1px rgba(0, 0, 0, 0.15);\n",
              "      filter: drop-shadow(0px 1px 2px rgba(0, 0, 0, 0.3));\n",
              "      fill: #FFFFFF;\n",
              "    }\n",
              "  </style>\n",
              "\n",
              "    <script>\n",
              "      const buttonEl =\n",
              "        document.querySelector('#df-b6fb98b1-ad09-4595-8e8e-4070ec078411 button.colab-df-convert');\n",
              "      buttonEl.style.display =\n",
              "        google.colab.kernel.accessAllowed ? 'block' : 'none';\n",
              "\n",
              "      async function convertToInteractive(key) {\n",
              "        const element = document.querySelector('#df-b6fb98b1-ad09-4595-8e8e-4070ec078411');\n",
              "        const dataTable =\n",
              "          await google.colab.kernel.invokeFunction('convertToInteractive',\n",
              "                                                    [key], {});\n",
              "        if (!dataTable) return;\n",
              "\n",
              "        const docLinkHtml = 'Like what you see? Visit the ' +\n",
              "          '<a target=\"_blank\" href=https://colab.research.google.com/notebooks/data_table.ipynb>data table notebook</a>'\n",
              "          + ' to learn more about interactive tables.';\n",
              "        element.innerHTML = '';\n",
              "        dataTable['output_type'] = 'display_data';\n",
              "        await google.colab.output.renderOutput(dataTable, element);\n",
              "        const docLink = document.createElement('div');\n",
              "        docLink.innerHTML = docLinkHtml;\n",
              "        element.appendChild(docLink);\n",
              "      }\n",
              "    </script>\n",
              "  </div>\n",
              "\n",
              "    </div>\n",
              "  </div>\n"
            ]
          },
          "metadata": {},
          "execution_count": 3
        }
      ]
    },
    {
      "cell_type": "code",
      "source": [
        "# prompt: Convert the table ecommerce.customer_stats to a bigframes dataframe and show the top 10 records\n",
        "\n",
        "bq_df = bpd.read_gbq(f'{project_id}.{dataset_name}.{table_name}')\n",
        "bq_df.head(10)"
      ],
      "metadata": {
        "colab": {
          "base_uri": "https://localhost:8080/",
          "height": 427
        },
        "id": "Bj--MV1SmNXW",
        "executionInfo": {
          "status": "ok",
          "timestamp": 1734723856373,
          "user_tz": 180,
          "elapsed": 6675,
          "user": {
            "displayName": "",
            "userId": ""
          }
        },
        "outputId": "0c003b0f-734e-405f-f8bd-f15999338cb5"
      },
      "execution_count": 5,
      "outputs": [
        {
          "output_type": "display_data",
          "data": {
            "text/plain": [
              "<IPython.core.display.HTML object>"
            ],
            "text/html": [
              "Query job 2f3aabf6-e539-4888-929a-6ace9abebcb3 is DONE. 522.8 kB processed. <a target=\"_blank\" href=\"https://console.cloud.google.com/bigquery?project=qwiklabs-gcp-04-0fc8940702f2&j=bq:US:2f3aabf6-e539-4888-929a-6ace9abebcb3&page=queryresults\">Open Job</a>"
            ]
          },
          "metadata": {}
        },
        {
          "output_type": "execute_result",
          "data": {
            "text/plain": [
              "   user_id  days_since_last_order  count_orders  average_spend\n",
              "0    94962                    889             1           18.0\n",
              "1    42612                    764             1      259.98999\n",
              "2    75420                    739             1          149.0\n",
              "3    57134                    892             5        189.306\n",
              "4     7072                   1027             3          16.66\n",
              "5    14834                    976             4      35.370001\n",
              "6     4204                    735             1          53.98\n",
              "7    42905                   1005             1          54.18\n",
              "8    85489                    969             1      34.900002\n",
              "9    61899                    834             1           12.0\n",
              "\n",
              "[10 rows x 4 columns]"
            ],
            "text/html": [
              "<div>\n",
              "<style scoped>\n",
              "    .dataframe tbody tr th:only-of-type {\n",
              "        vertical-align: middle;\n",
              "    }\n",
              "\n",
              "    .dataframe tbody tr th {\n",
              "        vertical-align: top;\n",
              "    }\n",
              "\n",
              "    .dataframe thead th {\n",
              "        text-align: right;\n",
              "    }\n",
              "</style>\n",
              "<table border=\"1\" class=\"dataframe\">\n",
              "  <thead>\n",
              "    <tr style=\"text-align: right;\">\n",
              "      <th></th>\n",
              "      <th>user_id</th>\n",
              "      <th>days_since_last_order</th>\n",
              "      <th>count_orders</th>\n",
              "      <th>average_spend</th>\n",
              "    </tr>\n",
              "  </thead>\n",
              "  <tbody>\n",
              "    <tr>\n",
              "      <th>0</th>\n",
              "      <td>94962</td>\n",
              "      <td>889</td>\n",
              "      <td>1</td>\n",
              "      <td>18.0</td>\n",
              "    </tr>\n",
              "    <tr>\n",
              "      <th>1</th>\n",
              "      <td>42612</td>\n",
              "      <td>764</td>\n",
              "      <td>1</td>\n",
              "      <td>259.98999</td>\n",
              "    </tr>\n",
              "    <tr>\n",
              "      <th>2</th>\n",
              "      <td>75420</td>\n",
              "      <td>739</td>\n",
              "      <td>1</td>\n",
              "      <td>149.0</td>\n",
              "    </tr>\n",
              "    <tr>\n",
              "      <th>3</th>\n",
              "      <td>57134</td>\n",
              "      <td>892</td>\n",
              "      <td>5</td>\n",
              "      <td>189.306</td>\n",
              "    </tr>\n",
              "    <tr>\n",
              "      <th>4</th>\n",
              "      <td>7072</td>\n",
              "      <td>1027</td>\n",
              "      <td>3</td>\n",
              "      <td>16.66</td>\n",
              "    </tr>\n",
              "    <tr>\n",
              "      <th>5</th>\n",
              "      <td>14834</td>\n",
              "      <td>976</td>\n",
              "      <td>4</td>\n",
              "      <td>35.370001</td>\n",
              "    </tr>\n",
              "    <tr>\n",
              "      <th>6</th>\n",
              "      <td>4204</td>\n",
              "      <td>735</td>\n",
              "      <td>1</td>\n",
              "      <td>53.98</td>\n",
              "    </tr>\n",
              "    <tr>\n",
              "      <th>7</th>\n",
              "      <td>42905</td>\n",
              "      <td>1005</td>\n",
              "      <td>1</td>\n",
              "      <td>54.18</td>\n",
              "    </tr>\n",
              "    <tr>\n",
              "      <th>8</th>\n",
              "      <td>85489</td>\n",
              "      <td>969</td>\n",
              "      <td>1</td>\n",
              "      <td>34.900002</td>\n",
              "    </tr>\n",
              "    <tr>\n",
              "      <th>9</th>\n",
              "      <td>61899</td>\n",
              "      <td>834</td>\n",
              "      <td>1</td>\n",
              "      <td>12.0</td>\n",
              "    </tr>\n",
              "  </tbody>\n",
              "</table>\n",
              "<p>10 rows × 4 columns</p>\n",
              "</div>[10 rows x 4 columns in total]"
            ]
          },
          "metadata": {},
          "execution_count": 5
        }
      ]
    },
    {
      "cell_type": "code",
      "source": [
        "# prompt: 1. Split df (using random state and test size 0.2) into test and training data for a K-means clustering algorithm store these as df_test and df_train. 2. Create a K-means cluster model using bigframes.ml.cluster KMeans with 5 clusters. 3. Save the model using the to_gbq method where the model name is project_id.dataset_name.model_name.\n",
        "\n",
        "df_train, df_test = train_test_split(bq_df, test_size=0.2, random_state=42)\n",
        "kmeans = KMeans(n_clusters=5)\n",
        "kmeans.fit(df_train)\n",
        "kmeans.to_gbq(f'{project_id}.{dataset_name}.{model_name}')"
      ],
      "metadata": {
        "colab": {
          "base_uri": "https://localhost:8080/",
          "height": 86
        },
        "id": "oYkQunRPmZZd",
        "executionInfo": {
          "status": "ok",
          "timestamp": 1734724006195,
          "user_tz": 180,
          "elapsed": 93880,
          "user": {
            "displayName": "",
            "userId": ""
          }
        },
        "outputId": "6685e77f-9b7e-4c23-b0dc-b6b3ca10cb93"
      },
      "execution_count": 6,
      "outputs": [
        {
          "output_type": "display_data",
          "data": {
            "text/plain": [
              "<IPython.core.display.HTML object>"
            ],
            "text/html": [
              "Query job fb17a36d-5d82-425d-9257-b3740514e448 is DONE. 522.8 kB processed. <a target=\"_blank\" href=\"https://console.cloud.google.com/bigquery?project=qwiklabs-gcp-04-0fc8940702f2&j=bq:US:fb17a36d-5d82-425d-9257-b3740514e448&page=queryresults\">Open Job</a>"
            ]
          },
          "metadata": {}
        },
        {
          "output_type": "display_data",
          "data": {
            "text/plain": [
              "<IPython.core.display.HTML object>"
            ],
            "text/html": [
              "Query job d5295c3e-9cca-4583-807d-cd0bcbe27ad2 is DONE. 418.3 kB processed. <a target=\"_blank\" href=\"https://console.cloud.google.com/bigquery?project=qwiklabs-gcp-04-0fc8940702f2&j=bq:US:d5295c3e-9cca-4583-807d-cd0bcbe27ad2&page=queryresults\">Open Job</a>"
            ]
          },
          "metadata": {}
        },
        {
          "output_type": "display_data",
          "data": {
            "text/plain": [
              "<IPython.core.display.HTML object>"
            ],
            "text/html": [
              "Copy job 2121046d-d0b6-4693-b6c3-4186c218bbe8 is DONE. <a target=\"_blank\" href=\"https://console.cloud.google.com/bigquery?project=qwiklabs-gcp-04-0fc8940702f2&j=bq:US:2121046d-d0b6-4693-b6c3-4186c218bbe8&page=queryresults\">Open Job</a>"
            ]
          },
          "metadata": {}
        },
        {
          "output_type": "execute_result",
          "data": {
            "text/plain": [
              "KMeans(distance_type='EUCLIDEAN', init='KMEANS_PLUS_PLUS', n_clusters=5)"
            ]
          },
          "metadata": {},
          "execution_count": 6
        }
      ]
    },
    {
      "cell_type": "code",
      "source": [
        "# prompt: 1. Call the K-means prediction model on the df dataframe, and store the results as predictions_df and show the first 10 records.\n",
        "\n",
        "predictions_df = kmeans.predict(df_test)\n",
        "predictions_df.head(10)"
      ],
      "metadata": {
        "colab": {
          "base_uri": "https://localhost:8080/",
          "height": 444
        },
        "id": "I6rIeqRYnFTh",
        "executionInfo": {
          "status": "ok",
          "timestamp": 1734724090992,
          "user_tz": 180,
          "elapsed": 8205,
          "user": {
            "displayName": "",
            "userId": ""
          }
        },
        "outputId": "0e299a29-31fe-401c-971a-ea0511a7b2b0"
      },
      "execution_count": 7,
      "outputs": [
        {
          "output_type": "display_data",
          "data": {
            "text/plain": [
              "<IPython.core.display.HTML object>"
            ],
            "text/html": [
              "Query job f5cc8787-e066-416a-9e0b-c35708add8be is DONE. 523.2 kB processed. <a target=\"_blank\" href=\"https://console.cloud.google.com/bigquery?project=qwiklabs-gcp-04-0fc8940702f2&j=bq:US:f5cc8787-e066-416a-9e0b-c35708add8be&page=queryresults\">Open Job</a>"
            ]
          },
          "metadata": {}
        },
        {
          "output_type": "display_data",
          "data": {
            "text/plain": [
              "<IPython.core.display.HTML object>"
            ],
            "text/html": [
              "Query job 8c31ffa8-3d9f-46f9-8649-76a429aee540 is DONE. 418.3 kB processed. <a target=\"_blank\" href=\"https://console.cloud.google.com/bigquery?project=qwiklabs-gcp-04-0fc8940702f2&j=bq:US:8c31ffa8-3d9f-46f9-8649-76a429aee540&page=queryresults\">Open Job</a>"
            ]
          },
          "metadata": {}
        },
        {
          "output_type": "execute_result",
          "data": {
            "text/plain": [
              "    CENTROID_ID                         NEAREST_CENTROIDS_DISTANCE  user_id  \\\n",
              "3             1  [{'CENTROID_ID': 1, 'DISTANCE': 2.513706587733...    57134   \n",
              "10            2  [{'CENTROID_ID': 2, 'DISTANCE': 1.129204754906...    44899   \n",
              "23            2  [{'CENTROID_ID': 2, 'DISTANCE': 1.132376504527...    20741   \n",
              "24            5  [{'CENTROID_ID': 5, 'DISTANCE': 0.899494201205...    65248   \n",
              "27            5  [{'CENTROID_ID': 5, 'DISTANCE': 1.342625119709...    53642   \n",
              "30            1  [{'CENTROID_ID': 1, 'DISTANCE': 2.079697460454...    66402   \n",
              "31            1  [{'CENTROID_ID': 1, 'DISTANCE': 1.163770823984...    26626   \n",
              "50            5  [{'CENTROID_ID': 5, 'DISTANCE': 1.310179251740...    61492   \n",
              "56            3  [{'CENTROID_ID': 3, 'DISTANCE': 0.628767496141...    68860   \n",
              "57            4  [{'CENTROID_ID': 4, 'DISTANCE': 1.062412550174...    22907   \n",
              "\n",
              "    days_since_last_order  count_orders  average_spend  \n",
              "3                     892             5        189.306  \n",
              "10                    722             1      39.990002  \n",
              "23                    888             1      99.989998  \n",
              "24                    884             1           55.0  \n",
              "27                    729             1           9.95  \n",
              "30                   1062             4        62.7225  \n",
              "31                    913             4        46.1825  \n",
              "50                    734             2          13.99  \n",
              "56                   1037             1           45.0  \n",
              "57                   1075             1           25.0  \n",
              "\n",
              "[10 rows x 6 columns]"
            ],
            "text/html": [
              "<div>\n",
              "<style scoped>\n",
              "    .dataframe tbody tr th:only-of-type {\n",
              "        vertical-align: middle;\n",
              "    }\n",
              "\n",
              "    .dataframe tbody tr th {\n",
              "        vertical-align: top;\n",
              "    }\n",
              "\n",
              "    .dataframe thead th {\n",
              "        text-align: right;\n",
              "    }\n",
              "</style>\n",
              "<table border=\"1\" class=\"dataframe\">\n",
              "  <thead>\n",
              "    <tr style=\"text-align: right;\">\n",
              "      <th></th>\n",
              "      <th>CENTROID_ID</th>\n",
              "      <th>NEAREST_CENTROIDS_DISTANCE</th>\n",
              "      <th>user_id</th>\n",
              "      <th>days_since_last_order</th>\n",
              "      <th>count_orders</th>\n",
              "      <th>average_spend</th>\n",
              "    </tr>\n",
              "  </thead>\n",
              "  <tbody>\n",
              "    <tr>\n",
              "      <th>3</th>\n",
              "      <td>1</td>\n",
              "      <td>[{'CENTROID_ID': 1, 'DISTANCE': 2.513706587733...</td>\n",
              "      <td>57134</td>\n",
              "      <td>892</td>\n",
              "      <td>5</td>\n",
              "      <td>189.306</td>\n",
              "    </tr>\n",
              "    <tr>\n",
              "      <th>10</th>\n",
              "      <td>2</td>\n",
              "      <td>[{'CENTROID_ID': 2, 'DISTANCE': 1.129204754906...</td>\n",
              "      <td>44899</td>\n",
              "      <td>722</td>\n",
              "      <td>1</td>\n",
              "      <td>39.990002</td>\n",
              "    </tr>\n",
              "    <tr>\n",
              "      <th>23</th>\n",
              "      <td>2</td>\n",
              "      <td>[{'CENTROID_ID': 2, 'DISTANCE': 1.132376504527...</td>\n",
              "      <td>20741</td>\n",
              "      <td>888</td>\n",
              "      <td>1</td>\n",
              "      <td>99.989998</td>\n",
              "    </tr>\n",
              "    <tr>\n",
              "      <th>24</th>\n",
              "      <td>5</td>\n",
              "      <td>[{'CENTROID_ID': 5, 'DISTANCE': 0.899494201205...</td>\n",
              "      <td>65248</td>\n",
              "      <td>884</td>\n",
              "      <td>1</td>\n",
              "      <td>55.0</td>\n",
              "    </tr>\n",
              "    <tr>\n",
              "      <th>27</th>\n",
              "      <td>5</td>\n",
              "      <td>[{'CENTROID_ID': 5, 'DISTANCE': 1.342625119709...</td>\n",
              "      <td>53642</td>\n",
              "      <td>729</td>\n",
              "      <td>1</td>\n",
              "      <td>9.95</td>\n",
              "    </tr>\n",
              "    <tr>\n",
              "      <th>30</th>\n",
              "      <td>1</td>\n",
              "      <td>[{'CENTROID_ID': 1, 'DISTANCE': 2.079697460454...</td>\n",
              "      <td>66402</td>\n",
              "      <td>1062</td>\n",
              "      <td>4</td>\n",
              "      <td>62.7225</td>\n",
              "    </tr>\n",
              "    <tr>\n",
              "      <th>31</th>\n",
              "      <td>1</td>\n",
              "      <td>[{'CENTROID_ID': 1, 'DISTANCE': 1.163770823984...</td>\n",
              "      <td>26626</td>\n",
              "      <td>913</td>\n",
              "      <td>4</td>\n",
              "      <td>46.1825</td>\n",
              "    </tr>\n",
              "    <tr>\n",
              "      <th>50</th>\n",
              "      <td>5</td>\n",
              "      <td>[{'CENTROID_ID': 5, 'DISTANCE': 1.310179251740...</td>\n",
              "      <td>61492</td>\n",
              "      <td>734</td>\n",
              "      <td>2</td>\n",
              "      <td>13.99</td>\n",
              "    </tr>\n",
              "    <tr>\n",
              "      <th>56</th>\n",
              "      <td>3</td>\n",
              "      <td>[{'CENTROID_ID': 3, 'DISTANCE': 0.628767496141...</td>\n",
              "      <td>68860</td>\n",
              "      <td>1037</td>\n",
              "      <td>1</td>\n",
              "      <td>45.0</td>\n",
              "    </tr>\n",
              "    <tr>\n",
              "      <th>57</th>\n",
              "      <td>4</td>\n",
              "      <td>[{'CENTROID_ID': 4, 'DISTANCE': 1.062412550174...</td>\n",
              "      <td>22907</td>\n",
              "      <td>1075</td>\n",
              "      <td>1</td>\n",
              "      <td>25.0</td>\n",
              "    </tr>\n",
              "  </tbody>\n",
              "</table>\n",
              "<p>10 rows × 6 columns</p>\n",
              "</div>[10 rows x 6 columns in total]"
            ]
          },
          "metadata": {},
          "execution_count": 7
        }
      ]
    },
    {
      "cell_type": "code",
      "source": [
        "# prompt: 1. Using predictions_df, and matplotlib, generate a scatterplot. 2. On the x-axis of the scatterplot, display days_since_last_order and on the y-axis, display average_spend from predictions_df. 3. Color by cluster. 4. The chart should be titled \"Attribute grouped by K-means cluster.\"\n",
        "\n",
        "import matplotlib.pyplot as plt\n",
        "\n",
        "# Create the scatter plot\n",
        "plt.figure(figsize=(10, 6))\n",
        "plt.scatter(predictions_df['days_since_last_order'], predictions_df['average_spend'], c=predictions_df['CENTROID_ID'], cmap='viridis')\n",
        "plt.xlabel('Days Since Last Order')\n",
        "plt.ylabel('Average Spend')\n",
        "plt.title('Attribute grouped by K-means cluster')\n",
        "plt.colorbar(label='Cluster ID')\n",
        "plt.show()"
      ],
      "metadata": {
        "colab": {
          "base_uri": "https://localhost:8080/",
          "height": 703
        },
        "id": "R2tD_I6En2BT",
        "executionInfo": {
          "status": "ok",
          "timestamp": 1734724359213,
          "user_tz": 180,
          "elapsed": 28759,
          "user": {
            "displayName": "",
            "userId": ""
          }
        },
        "outputId": "087b58d0-4674-4345-cbf7-6ded9cd8706f"
      },
      "execution_count": 9,
      "outputs": [
        {
          "output_type": "display_data",
          "data": {
            "text/plain": [
              "<IPython.core.display.HTML object>"
            ],
            "text/html": [
              "Query job 30c58d81-be76-483e-b1f2-7d1f453c180b is DONE. 52.3 kB processed. <a target=\"_blank\" href=\"https://console.cloud.google.com/bigquery?project=qwiklabs-gcp-04-0fc8940702f2&j=bq:US:30c58d81-be76-483e-b1f2-7d1f453c180b&page=queryresults\">Open Job</a>"
            ]
          },
          "metadata": {}
        },
        {
          "output_type": "display_data",
          "data": {
            "text/plain": [
              "<IPython.core.display.HTML object>"
            ],
            "text/html": [
              "Query job eac8437a-b89c-4571-9d2d-4a114d0f34c7 is DONE. 52.3 kB processed. <a target=\"_blank\" href=\"https://console.cloud.google.com/bigquery?project=qwiklabs-gcp-04-0fc8940702f2&j=bq:US:eac8437a-b89c-4571-9d2d-4a114d0f34c7&page=queryresults\">Open Job</a>"
            ]
          },
          "metadata": {}
        },
        {
          "output_type": "display_data",
          "data": {
            "text/plain": [
              "<IPython.core.display.HTML object>"
            ],
            "text/html": [
              "Query job f2a38300-a52c-4b8b-86dc-4cf3dea5a869 is DONE. 52.3 kB processed. <a target=\"_blank\" href=\"https://console.cloud.google.com/bigquery?project=qwiklabs-gcp-04-0fc8940702f2&j=bq:US:f2a38300-a52c-4b8b-86dc-4cf3dea5a869&page=queryresults\">Open Job</a>"
            ]
          },
          "metadata": {}
        },
        {
          "output_type": "display_data",
          "data": {
            "text/plain": [
              "<IPython.core.display.HTML object>"
            ],
            "text/html": [
              "Query job 1cbc8a8d-7536-4193-8778-8c7f45a25e2b is DONE. 52.3 kB processed. <a target=\"_blank\" href=\"https://console.cloud.google.com/bigquery?project=qwiklabs-gcp-04-0fc8940702f2&j=bq:US:1cbc8a8d-7536-4193-8778-8c7f45a25e2b&page=queryresults\">Open Job</a>"
            ]
          },
          "metadata": {}
        },
        {
          "output_type": "display_data",
          "data": {
            "text/plain": [
              "<IPython.core.display.HTML object>"
            ],
            "text/html": [
              "Query job f69c2558-a30e-43b7-b9bf-0f9f37d8a676 is DONE. 0 Bytes processed. <a target=\"_blank\" href=\"https://console.cloud.google.com/bigquery?project=qwiklabs-gcp-04-0fc8940702f2&j=bq:US:f69c2558-a30e-43b7-b9bf-0f9f37d8a676&page=queryresults\">Open Job</a>"
            ]
          },
          "metadata": {}
        },
        {
          "output_type": "display_data",
          "data": {
            "text/plain": [
              "<IPython.core.display.HTML object>"
            ],
            "text/html": [
              "Query job de7902f4-7318-4ce9-8050-ddeeff129f5b is DONE. 0 Bytes processed. <a target=\"_blank\" href=\"https://console.cloud.google.com/bigquery?project=qwiklabs-gcp-04-0fc8940702f2&j=bq:US:de7902f4-7318-4ce9-8050-ddeeff129f5b&page=queryresults\">Open Job</a>"
            ]
          },
          "metadata": {}
        },
        {
          "output_type": "display_data",
          "data": {
            "text/plain": [
              "<IPython.core.display.HTML object>"
            ],
            "text/html": [
              "Query job 4a0d74e6-5741-423a-8692-febeb8c45bb3 is DONE. 52.3 kB processed. <a target=\"_blank\" href=\"https://console.cloud.google.com/bigquery?project=qwiklabs-gcp-04-0fc8940702f2&j=bq:US:4a0d74e6-5741-423a-8692-febeb8c45bb3&page=queryresults\">Open Job</a>"
            ]
          },
          "metadata": {}
        },
        {
          "output_type": "display_data",
          "data": {
            "text/plain": [
              "<IPython.core.display.HTML object>"
            ],
            "text/html": [
              "Query job 0797eaf8-03d3-4a44-ac43-e722f762a248 is DONE. 52.3 kB processed. <a target=\"_blank\" href=\"https://console.cloud.google.com/bigquery?project=qwiklabs-gcp-04-0fc8940702f2&j=bq:US:0797eaf8-03d3-4a44-ac43-e722f762a248&page=queryresults\">Open Job</a>"
            ]
          },
          "metadata": {}
        },
        {
          "output_type": "display_data",
          "data": {
            "text/plain": [
              "<Figure size 1000x600 with 2 Axes>"
            ],
            "image/png": "[encoded data removed]"
          },
          "metadata": {}
        }
      ]
    },
    {
      "cell_type": "code",
      "source": [
        "query = \"\"\"\n",
        "SELECT\n",
        " CONCAT('cluster ', CAST(centroid_id as STRING)) as centroid,\n",
        " average_spend,\n",
        " count_orders,\n",
        " days_since_last_order\n",
        "FROM (\n",
        " SELECT centroid_id, feature, ROUND(numerical_value, 2) as value\n",
        " FROM ML.CENTROIDS(MODEL `{0}.{1}`)\n",
        ")\n",
        "PIVOT (\n",
        " SUM(value)\n",
        " FOR feature IN ('average_spend',  'count_orders', 'days_since_last_order')\n",
        ")\n",
        "ORDER BY centroid_id\n",
        "\"\"\".format(dataset_name, model_name)\n",
        "\n",
        "df_centroid = client.query(query).to_dataframe()\n",
        "df_centroid.head()"
      ],
      "metadata": {
        "colab": {
          "base_uri": "https://localhost:8080/",
          "height": 206
        },
        "id": "7xQz_b2RoyaG",
        "executionInfo": {
          "status": "ok",
          "timestamp": 1734724511751,
          "user_tz": 180,
          "elapsed": 3965,
          "user": {
            "displayName": "",
            "userId": ""
          }
        },
        "outputId": "8befb104-710e-4b1a-c1bf-c6654c5a36bf"
      },
      "execution_count": 10,
      "outputs": [
        {
          "output_type": "execute_result",
          "data": {
            "text/plain": [
              "    centroid  average_spend  count_orders  days_since_last_order\n",
              "0  cluster 1          69.12          3.70                 852.87\n",
              "1  cluster 2          61.92          1.33                 799.98\n",
              "2  cluster 3          58.79          1.29                 988.17\n",
              "3  cluster 4          54.27          1.32                 983.29\n",
              "4  cluster 5          55.61          1.29                 803.04"
            ],
            "text/html": [
              "\n",
              "  <div id=\"df-93fd6acc-10e2-4d6c-b8a0-4fb9bdabeccd\" class=\"colab-df-container\">\n",
              "    <div>\n",
              "<style scoped>\n",
              "    .dataframe tbody tr th:only-of-type {\n",
              "        vertical-align: middle;\n",
              "    }\n",
              "\n",
              "    .dataframe tbody tr th {\n",
              "        vertical-align: top;\n",
              "    }\n",
              "\n",
              "    .dataframe thead th {\n",
              "        text-align: right;\n",
              "    }\n",
              "</style>\n",
              "<table border=\"1\" class=\"dataframe\">\n",
              "  <thead>\n",
              "    <tr style=\"text-align: right;\">\n",
              "      <th></th>\n",
              "      <th>centroid</th>\n",
              "      <th>average_spend</th>\n",
              "      <th>count_orders</th>\n",
              "      <th>days_since_last_order</th>\n",
              "    </tr>\n",
              "  </thead>\n",
              "  <tbody>\n",
              "    <tr>\n",
              "      <th>0</th>\n",
              "      <td>cluster 1</td>\n",
              "      <td>69.12</td>\n",
              "      <td>3.70</td>\n",
              "      <td>852.87</td>\n",
              "    </tr>\n",
              "    <tr>\n",
              "      <th>1</th>\n",
              "      <td>cluster 2</td>\n",
              "      <td>61.92</td>\n",
              "      <td>1.33</td>\n",
              "      <td>799.98</td>\n",
              "    </tr>\n",
              "    <tr>\n",
              "      <th>2</th>\n",
              "      <td>cluster 3</td>\n",
              "      <td>58.79</td>\n",
              "      <td>1.29</td>\n",
              "      <td>988.17</td>\n",
              "    </tr>\n",
              "    <tr>\n",
              "      <th>3</th>\n",
              "      <td>cluster 4</td>\n",
              "      <td>54.27</td>\n",
              "      <td>1.32</td>\n",
              "      <td>983.29</td>\n",
              "    </tr>\n",
              "    <tr>\n",
              "      <th>4</th>\n",
              "      <td>cluster 5</td>\n",
              "      <td>55.61</td>\n",
              "      <td>1.29</td>\n",
              "      <td>803.04</td>\n",
              "    </tr>\n",
              "  </tbody>\n",
              "</table>\n",
              "</div>\n",
              "    <div class=\"colab-df-buttons\">\n",
              "\n",
              "  <div class=\"colab-df-container\">\n",
              "    <button class=\"colab-df-convert\" onclick=\"convertToInteractive('df-93fd6acc-10e2-4d6c-b8a0-4fb9bdabeccd')\"\n",
              "            title=\"Convert this dataframe to an interactive table.\"\n",
              "            style=\"display:none;\">\n",
              "\n",
              "  <svg xmlns=\"http://www.w3.org/2000/svg\" height=\"24px\" viewBox=\"0 -960 960 960\">\n",
              "    <path d=\"M120-120v-720h720v720H120Zm60-500h600v-160H180v160Zm220 220h160v-160H400v160Zm0 220h160v-160H400v160ZM180-400h160v-160H180v160Zm440 0h160v-160H620v160ZM180-180h160v-160H180v160Zm440 0h160v-160H620v160Z\"/>\n",
              "  </svg>\n",
              "    </button>\n",
              "\n",
              "  <style>\n",
              "    .colab-df-container {\n",
              "      display:flex;\n",
              "      gap: 12px;\n",
              "    }\n",
              "\n",
              "    .colab-df-convert {\n",
              "      background-color: #E8F0FE;\n",
              "      border: none;\n",
              "      border-radius: 50%;\n",
              "      cursor: pointer;\n",
              "      display: none;\n",
              "      fill: #1967D2;\n",
              "      height: 32px;\n",
              "      padding: 0 0 0 0;\n",
              "      width: 32px;\n",
              "    }\n",
              "\n",
              "    .colab-df-convert:hover {\n",
              "      background-color: #E2EBFA;\n",
              "      box-shadow: 0px 1px 2px rgba(60, 64, 67, 0.3), 0px 1px 3px 1px rgba(60, 64, 67, 0.15);\n",
              "      fill: #174EA6;\n",
              "    }\n",
              "\n",
              "    .colab-df-buttons div {\n",
              "      margin-bottom: 4px;\n",
              "    }\n",
              "\n",
              "    [theme=dark] .colab-df-convert {\n",
              "      background-color: #3B4455;\n",
              "      fill: #D2E3FC;\n",
              "    }\n",
              "\n",
              "    [theme=dark] .colab-df-convert:hover {\n",
              "      background-color: #434B5C;\n",
              "      box-shadow: 0px 1px 3px 1px rgba(0, 0, 0, 0.15);\n",
              "      filter: drop-shadow(0px 1px 2px rgba(0, 0, 0, 0.3));\n",
              "      fill: #FFFFFF;\n",
              "    }\n",
              "  </style>\n",
              "\n",
              "    <script>\n",
              "      const buttonEl =\n",
              "        document.querySelector('#df-93fd6acc-10e2-4d6c-b8a0-4fb9bdabeccd button.colab-df-convert');\n",
              "      buttonEl.style.display =\n",
              "        google.colab.kernel.accessAllowed ? 'block' : 'none';\n",
              "\n",
              "      async function convertToInteractive(key) {\n",
              "        const element = document.querySelector('#df-93fd6acc-10e2-4d6c-b8a0-4fb9bdabeccd');\n",
              "        const dataTable =\n",
              "          await google.colab.kernel.invokeFunction('convertToInteractive',\n",
              "                                                    [key], {});\n",
              "        if (!dataTable) return;\n",
              "\n",
              "        const docLinkHtml = 'Like what you see? Visit the ' +\n",
              "          '<a target=\"_blank\" href=https://colab.research.google.com/notebooks/data_table.ipynb>data table notebook</a>'\n",
              "          + ' to learn more about interactive tables.';\n",
              "        element.innerHTML = '';\n",
              "        dataTable['output_type'] = 'display_data';\n",
              "        await google.colab.output.renderOutput(dataTable, element);\n",
              "        const docLink = document.createElement('div');\n",
              "        docLink.innerHTML = docLinkHtml;\n",
              "        element.appendChild(docLink);\n",
              "      }\n",
              "    </script>\n",
              "  </div>\n",
              "\n",
              "\n",
              "<div id=\"df-a2ae9645-a0ba-4d70-b6dc-bc9547e2796e\">\n",
              "  <button class=\"colab-df-quickchart\" onclick=\"quickchart('df-a2ae9645-a0ba-4d70-b6dc-bc9547e2796e')\"\n",
              "            title=\"Suggest charts\"\n",
              "            style=\"display:none;\">\n",
              "\n",
              "<svg xmlns=\"http://www.w3.org/2000/svg\" height=\"24px\"viewBox=\"0 0 24 24\"\n",
              "     width=\"24px\">\n",
              "    <g>\n",
              "        <path d=\"M19 3H5c-1.1 0-2 .9-2 2v14c0 1.1.9 2 2 2h14c1.1 0 2-.9 2-2V5c0-1.1-.9-2-2-2zM9 17H7v-7h2v7zm4 0h-2V7h2v10zm4 0h-2v-4h2v4z\"/>\n",
              "    </g>\n",
              "</svg>\n",
              "  </button>\n",
              "\n",
              "<style>\n",
              "  .colab-df-quickchart {\n",
              "      --bg-color: #E8F0FE;\n",
              "      --fill-color: #1967D2;\n",
              "      --hover-bg-color: #E2EBFA;\n",
              "      --hover-fill-color: #174EA6;\n",
              "      --disabled-fill-color: #AAA;\n",
              "      --disabled-bg-color: #DDD;\n",
              "  }\n",
              "\n",
              "  [theme=dark] .colab-df-quickchart {\n",
              "      --bg-color: #3B4455;\n",
              "      --fill-color: #D2E3FC;\n",
              "      --hover-bg-color: #434B5C;\n",
              "      --hover-fill-color: #FFFFFF;\n",
              "      --disabled-bg-color: #3B4455;\n",
              "      --disabled-fill-color: #666;\n",
              "  }\n",
              "\n",
              "  .colab-df-quickchart {\n",
              "    background-color: var(--bg-color);\n",
              "    border: none;\n",
              "    border-radius: 50%;\n",
              "    cursor: pointer;\n",
              "    display: none;\n",
              "    fill: var(--fill-color);\n",
              "    height: 32px;\n",
              "    padding: 0;\n",
              "    width: 32px;\n",
              "  }\n",
              "\n",
              "  .colab-df-quickchart:hover {\n",
              "    background-color: var(--hover-bg-color);\n",
              "    box-shadow: 0 1px 2px rgba(60, 64, 67, 0.3), 0 1px 3px 1px rgba(60, 64, 67, 0.15);\n",
              "    fill: var(--button-hover-fill-color);\n",
              "  }\n",
              "\n",
              "  .colab-df-quickchart-complete:disabled,\n",
              "  .colab-df-quickchart-complete:disabled:hover {\n",
              "    background-color: var(--disabled-bg-color);\n",
              "    fill: var(--disabled-fill-color);\n",
              "    box-shadow: none;\n",
              "  }\n",
              "\n",
              "  .colab-df-spinner {\n",
              "    border: 2px solid var(--fill-color);\n",
              "    border-color: transparent;\n",
              "    border-bottom-color: var(--fill-color);\n",
              "    animation:\n",
              "      spin 1s steps(1) infinite;\n",
              "  }\n",
              "\n",
              "  @keyframes spin {\n",
              "    0% {\n",
              "      border-color: transparent;\n",
              "      border-bottom-color: var(--fill-color);\n",
              "      border-left-color: var(--fill-color);\n",
              "    }\n",
              "    20% {\n",
              "      border-color: transparent;\n",
              "      border-left-color: var(--fill-color);\n",
              "      border-top-color: var(--fill-color);\n",
              "    }\n",
              "    30% {\n",
              "      border-color: transparent;\n",
              "      border-left-color: var(--fill-color);\n",
              "      border-top-color: var(--fill-color);\n",
              "      border-right-color: var(--fill-color);\n",
              "    }\n",
              "    40% {\n",
              "      border-color: transparent;\n",
              "      border-right-color: var(--fill-color);\n",
              "      border-top-color: var(--fill-color);\n",
              "    }\n",
              "    60% {\n",
              "      border-color: transparent;\n",
              "      border-right-color: var(--fill-color);\n",
              "    }\n",
              "    80% {\n",
              "      border-color: transparent;\n",
              "      border-right-color: var(--fill-color);\n",
              "      border-bottom-color: var(--fill-color);\n",
              "    }\n",
              "    90% {\n",
              "      border-color: transparent;\n",
              "      border-bottom-color: var(--fill-color);\n",
              "    }\n",
              "  }\n",
              "</style>\n",
              "\n",
              "  <script>\n",
              "    async function quickchart(key) {\n",
              "      const quickchartButtonEl =\n",
              "        document.querySelector('#' + key + ' button');\n",
              "      quickchartButtonEl.disabled = true;  // To prevent multiple clicks.\n",
              "      quickchartButtonEl.classList.add('colab-df-spinner');\n",
              "      try {\n",
              "        const charts = await google.colab.kernel.invokeFunction(\n",
              "            'suggestCharts', [key], {});\n",
              "      } catch (error) {\n",
              "        console.error('Error during call to suggestCharts:', error);\n",
              "      }\n",
              "      quickchartButtonEl.classList.remove('colab-df-spinner');\n",
              "      quickchartButtonEl.classList.add('colab-df-quickchart-complete');\n",
              "    }\n",
              "    (() => {\n",
              "      let quickchartButtonEl =\n",
              "        document.querySelector('#df-a2ae9645-a0ba-4d70-b6dc-bc9547e2796e button');\n",
              "      quickchartButtonEl.style.display =\n",
              "        google.colab.kernel.accessAllowed ? 'block' : 'none';\n",
              "    })();\n",
              "  </script>\n",
              "</div>\n",
              "    </div>\n",
              "  </div>\n"
            ]
          },
          "metadata": {},
          "execution_count": 10
        }
      ]
    },
    {
      "cell_type": "code",
      "source": [
        "df_query = client.query(query).to_dataframe()\n",
        "df_query.to_string(header=False, index=False)\n",
        "\n",
        "cluster_info = []\n",
        "for i, row in df_query.iterrows():\n",
        " cluster_info.append(\"{0}, average spend ${2}, count of orders per person {1}, days since last order {3}\"\n",
        "  .format(row[\"centroid\"], row[\"count_orders\"], row[\"average_spend\"], row[\"days_since_last_order\"]) )\n",
        "\n",
        "cluster_info = (str.join(\"\\n\", cluster_info))\n",
        "print(cluster_info)"
      ],
      "metadata": {
        "colab": {
          "base_uri": "https://localhost:8080/"
        },
        "id": "XZvY78yWpAYM",
        "executionInfo": {
          "status": "ok",
          "timestamp": 1734724574207,
          "user_tz": 180,
          "elapsed": 3477,
          "user": {
            "displayName": "",
            "userId": ""
          }
        },
        "outputId": "26b8e786-4caf-47fa-f6ca-21a76c0197b3"
      },
      "execution_count": 11,
      "outputs": [
        {
          "output_type": "stream",
          "name": "stdout",
          "text": [
            "cluster 1, average spend $69.12, count of orders per person 3.7, days since last order 852.87\n",
            "cluster 2, average spend $61.92, count of orders per person 1.33, days since last order 799.98\n",
            "cluster 3, average spend $58.79, count of orders per person 1.29, days since last order 988.17\n",
            "cluster 4, average spend $54.27, count of orders per person 1.32, days since last order 983.29\n",
            "cluster 5, average spend $55.61, count of orders per person 1.29, days since last order 803.04\n"
          ]
        }
      ]
    },
    {
      "cell_type": "code",
      "source": [
        "model = GenerativeModel(\"gemini-1.0-pro\")\n",
        "\n",
        "prompt = f\"\"\"\n",
        "You're a creative brand strategist, given the following clusters, come up with \\\n",
        "creative brand persona, a catchy title, and next marketing action, \\\n",
        "explained step by step. Identify the cluster number, the title of the person, a persona for them and the next marketing step.\n",
        "\n",
        "Clusters:\n",
        "{cluster_info}\n",
        "\n",
        "For each Cluster:\n",
        "* Title:\n",
        "* Persona:\n",
        "* Next marketing step:\n",
        "\"\"\"\n",
        "\n",
        "responses = model.generate_content(\n",
        "   prompt,\n",
        "   generation_config={\n",
        "      \"temperature\": 0.1,\n",
        "      \"max_output_tokens\": 800,\n",
        "      \"top_p\": 1.0,\n",
        "      \"top_k\": 40,\n",
        "   }\n",
        ")\n",
        "\n",
        "print(responses.text)"
      ],
      "metadata": {
        "colab": {
          "base_uri": "https://localhost:8080/"
        },
        "id": "7QghBQGupdbj",
        "executionInfo": {
          "status": "ok",
          "timestamp": 1734724687458,
          "user_tz": 180,
          "elapsed": 8297,
          "user": {
            "displayName": "",
            "userId": ""
          }
        },
        "outputId": "f36aca36-bcb4-44a7-876f-9ba941bc8aee"
      },
      "execution_count": 12,
      "outputs": [
        {
          "output_type": "stream",
          "name": "stdout",
          "text": [
            "## Creative Brand Personas and Marketing Strategies for Each Customer Cluster:\n",
            "\n",
            "**Cluster 1:**\n",
            "\n",
            "* **Title:** The Loyal Lapsed\n",
            "* **Persona:** These customers have a history of placing multiple orders with an average spend of $69.12. However, they haven't purchased anything in the last 852.87 days. They are likely satisfied with past purchases but may have found alternatives or simply forgotten about your brand.\n",
            "* **Next Marketing Step:** \n",
            "    1. **Re-engagement campaign:** Send personalized emails or targeted ads reminding them of their past purchases and highlighting new products or promotions that might interest them. \n",
            "    2. **Offer exclusive discounts or loyalty rewards:** incentivize them to return with special offers or points for their next purchase.\n",
            "    3. **Personalized product recommendations:** Based on their past purchases, suggest similar items or complementary products they might enjoy.\n",
            "\n",
            "**Cluster 2:**\n",
            "\n",
            "* **Title:** The One-Time Wonder\n",
            "* **Persona:** These customers have only placed one order with an average spend of $61.92. They haven't returned in the last 799.98 days. They might have had a positive experience but haven't found a reason to purchase again.\n",
            "* **Next Marketing Step:**\n",
            "    1. **Gather feedback:** Send a post-purchase survey to understand their experience and identify any potential pain points that prevented them from returning.\n",
            "    2. **Highlight unique selling points:** Showcase what makes your brand stand out from competitors and emphasize the value proposition.\n",
            "    3. **Offer incentives for repeat purchases:** Encourage them to come back with special discounts or loyalty programs.\n",
            "\n",
            "**Cluster 3 & 4:**\n",
            "\n",
            "* **Title:** The Lost Leaders (combining clusters 3 & 4 due to similar characteristics)\n",
            "* **Persona:** These customers have placed only one or two orders with an average spend of $58.79 and $54.27, respectively. They haven't returned in the last 988.17 and 983.29 days. They might have been initially interested but didn't find enough value to become regular customers.\n",
            "* **Next Marketing Step:**\n",
            "    1. **Analyze purchase data:** Identify commonalities between these customers and analyze their purchase behavior to understand what didn't resonate with them.\n",
            "    2. **Targeted content marketing:** Create content that addresses their specific needs and interests, showcasing how your products can solve their problems.\n",
            "    3. **Offer personalized product bundles or subscriptions:** Provide curated product packages or subscription options that cater to their individual preferences.\n",
            "\n",
            "**Cluster 5:**\n",
            "\n",
            "* **Title:** The Curious First-Timers\n",
            "* **Persona:** These customers have placed one order with an average spend of $55.61. They haven't returned in the last 803.04 days. They might have been intrigued by your brand but haven't found a compelling reason to purchase again.\n",
            "* **Next Marketing Step:**\n",
            "    1. **Welcome email series:** Introduce your brand story, values, and product offerings through a series of engaging emails.\n",
            "    2. **Showcase customer testimonials and social proof:** Highlight positive reviews and user-generated content to build trust and credibility.\n",
            "    3. **Offer exclusive discounts or free trials:** Encourage them to try your products again with special offers or free trials.\n",
            "\n",
            "By understanding the unique characteristics and behaviors of each customer cluster, you can tailor your marketing strategies to effectively re-engage lapsed customers, convert one-time buyers into loyal customers, and attract new customers who haven't yet experienced your brand. \n",
            "\n"
          ]
        }
      ]
    }
  ]
}